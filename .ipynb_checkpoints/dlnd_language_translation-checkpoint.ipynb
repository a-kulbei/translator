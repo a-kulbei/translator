{
 "cells": [
  {
   "cell_type": "markdown",
   "metadata": {
    "collapsed": true
   },
   "source": [
    "# Language Translation\n",
    "In this project, you’re going to take a peek into the realm of neural network machine translation.  You’ll be training a sequence to sequence model on a dataset of English and French sentences that can translate new sentences from English to French.\n",
    "## Get the Data\n",
    "Since translating the whole language of English to French will take lots of time to train, we have provided you with a small portion of the English corpus."
   ]
  },
  {
   "cell_type": "code",
   "execution_count": 1,
   "metadata": {
    "collapsed": true
   },
   "outputs": [],
   "source": [
    "\"\"\"\n",
    "DON'T MODIFY ANYTHING IN THIS CELL\n",
    "\"\"\"\n",
    "import helper\n",
    "import problem_unittests as tests\n",
    "\n",
    "source_path = 'data/small_vocab_en'\n",
    "target_path = 'data/small_vocab_fr'\n",
    "source_text = helper.load_data(source_path)\n",
    "target_text = helper.load_data(target_path)"
   ]
  },
  {
   "cell_type": "markdown",
   "metadata": {},
   "source": [
    "## Explore the Data\n",
    "Play around with view_sentence_range to view different parts of the data."
   ]
  },
  {
   "cell_type": "code",
   "execution_count": 2,
   "metadata": {},
   "outputs": [
    {
     "name": "stdout",
     "output_type": "stream",
     "text": [
      "Dataset Stats\n",
      "Roughly the number of unique words: 227\n",
      "Number of sentences: 137861\n",
      "Average number of words in a sentence: 13.225277634719028\n",
      "\n",
      "English sentences 0 to 10:\n",
      "new jersey is sometimes quiet during autumn , and it is snowy in april .\n",
      "the united states is usually chilly during july , and it is usually freezing in november .\n",
      "california is usually quiet during march , and it is usually hot in june .\n",
      "the united states is sometimes mild during june , and it is cold in september .\n",
      "your least liked fruit is the grape , but my least liked is the apple .\n",
      "his favorite fruit is the orange , but my favorite is the grape .\n",
      "paris is relaxing during december , but it is usually chilly in july .\n",
      "new jersey is busy during spring , and it is never hot in march .\n",
      "our least liked fruit is the lemon , but my least liked is the grape .\n",
      "the united states is sometimes busy during january , and it is sometimes warm in november .\n",
      "\n",
      "French sentences 0 to 10:\n",
      "new jersey est parfois calme pendant l' automne , et il est neigeux en avril .\n",
      "les états-unis est généralement froid en juillet , et il gèle habituellement en novembre .\n",
      "california est généralement calme en mars , et il est généralement chaud en juin .\n",
      "les états-unis est parfois légère en juin , et il fait froid en septembre .\n",
      "votre moins aimé fruit est le raisin , mais mon moins aimé est la pomme .\n",
      "son fruit préféré est l'orange , mais mon préféré est le raisin .\n",
      "paris est relaxant en décembre , mais il est généralement froid en juillet .\n",
      "new jersey est occupé au printemps , et il est jamais chaude en mars .\n",
      "notre fruit est moins aimé le citron , mais mon moins aimé est le raisin .\n",
      "les états-unis est parfois occupé en janvier , et il est parfois chaud en novembre .\n"
     ]
    }
   ],
   "source": [
    "view_sentence_range = (0, 10)\n",
    "\n",
    "\"\"\"\n",
    "DON'T MODIFY ANYTHING IN THIS CELL\n",
    "\"\"\"\n",
    "import numpy as np\n",
    "\n",
    "print('Dataset Stats')\n",
    "print('Roughly the number of unique words: {}'.format(len({word: None for word in source_text.split()})))\n",
    "\n",
    "sentences = source_text.split('\\n')\n",
    "word_counts = [len(sentence.split()) for sentence in sentences]\n",
    "print('Number of sentences: {}'.format(len(sentences)))\n",
    "print('Average number of words in a sentence: {}'.format(np.average(word_counts)))\n",
    "\n",
    "print()\n",
    "print('English sentences {} to {}:'.format(*view_sentence_range))\n",
    "print('\\n'.join(source_text.split('\\n')[view_sentence_range[0]:view_sentence_range[1]]))\n",
    "print()\n",
    "print('French sentences {} to {}:'.format(*view_sentence_range))\n",
    "print('\\n'.join(target_text.split('\\n')[view_sentence_range[0]:view_sentence_range[1]]))"
   ]
  },
  {
   "cell_type": "markdown",
   "metadata": {},
   "source": [
    "## Implement Preprocessing Function\n",
    "### Text to Word Ids\n",
    "As you did with other RNNs, you must turn the text into a number so the computer can understand it. In the function `text_to_ids()`, you'll turn `source_text` and `target_text` from words to ids.  However, you need to add the `<EOS>` word id at the end of `target_text`.  This will help the neural network predict when the sentence should end.\n",
    "\n",
    "You can get the `<EOS>` word id by doing:\n",
    "```python\n",
    "target_vocab_to_int['<EOS>']\n",
    "```\n",
    "You can get other word ids using `source_vocab_to_int` and `target_vocab_to_int`."
   ]
  },
  {
   "cell_type": "code",
   "execution_count": 3,
   "metadata": {},
   "outputs": [
    {
     "name": "stdout",
     "output_type": "stream",
     "text": [
      "Tests Passed\n"
     ]
    }
   ],
   "source": [
    "def text_to_ids(source_text, target_text, source_vocab_to_int, target_vocab_to_int):\n",
    "    \"\"\"\n",
    "    Convert source and target text to proper word ids\n",
    "    :param source_text: String that contains all the source text.\n",
    "    :param target_text: String that contains all the target text.\n",
    "    :param source_vocab_to_int: Dictionary to go from the source words to an id\n",
    "    :param target_vocab_to_int: Dictionary to go from the target words to an id\n",
    "    :return: A tuple of lists (source_id_text, target_id_text)\n",
    "    \"\"\"\n",
    "    source_id_text = []\n",
    "    target_id_text = []\n",
    "    \n",
    "    for sentence in source_text.split('\\n'):\n",
    "        sentence_id = []\n",
    "        for word in sentence.split():\n",
    "            sentence_id.append(source_vocab_to_int[word])\n",
    "        source_id_text.append(sentence_id)\n",
    "            \n",
    "    for sentence in target_text.split('\\n'):\n",
    "        sentence_id = []\n",
    "        for word in sentence.split():\n",
    "            sentence_id.append(target_vocab_to_int[word])        \n",
    "        sentence_id.append(target_vocab_to_int['<EOS>'])\n",
    "        target_id_text.append(sentence_id)\n",
    "\n",
    "    return source_id_text, target_id_text\n",
    "\n",
    "\"\"\"\n",
    "DON'T MODIFY ANYTHING IN THIS CELL THAT IS BELOW THIS LINE\n",
    "\"\"\"\n",
    "tests.test_text_to_ids(text_to_ids)"
   ]
  },
  {
   "cell_type": "markdown",
   "metadata": {},
   "source": [
    "### Preprocess all the data and save it\n",
    "Running the code cell below will preprocess all the data and save it to file."
   ]
  },
  {
   "cell_type": "code",
   "execution_count": 4,
   "metadata": {
    "collapsed": true
   },
   "outputs": [],
   "source": [
    "\"\"\"\n",
    "DON'T MODIFY ANYTHING IN THIS CELL\n",
    "\"\"\"\n",
    "helper.preprocess_and_save_data(source_path, target_path, text_to_ids)"
   ]
  },
  {
   "cell_type": "markdown",
   "metadata": {},
   "source": [
    "# Check Point\n",
    "This is your first checkpoint. If you ever decide to come back to this notebook or have to restart the notebook, you can start from here. The preprocessed data has been saved to disk."
   ]
  },
  {
   "cell_type": "code",
   "execution_count": 1,
   "metadata": {
    "collapsed": true
   },
   "outputs": [],
   "source": [
    "\"\"\"\n",
    "DON'T MODIFY ANYTHING IN THIS CELL\n",
    "\"\"\"\n",
    "import numpy as np\n",
    "import helper\n",
    "import problem_unittests as tests\n",
    "\n",
    "(source_int_text, target_int_text), (source_vocab_to_int, target_vocab_to_int), _ = helper.load_preprocess()"
   ]
  },
  {
   "cell_type": "markdown",
   "metadata": {},
   "source": [
    "### Check the Version of TensorFlow and Access to GPU\n",
    "This will check to make sure you have the correct version of TensorFlow and access to a GPU"
   ]
  },
  {
   "cell_type": "code",
   "execution_count": 2,
   "metadata": {},
   "outputs": [
    {
     "name": "stdout",
     "output_type": "stream",
     "text": [
      "TensorFlow Version: 1.3.0\n"
     ]
    },
    {
     "name": "stderr",
     "output_type": "stream",
     "text": [
      "/home/carnd/anaconda3/envs/transaltor/lib/python3.6/site-packages/ipykernel_launcher.py:15: UserWarning: No GPU found. Please use a GPU to train your neural network.\n",
      "  from ipykernel import kernelapp as app\n"
     ]
    }
   ],
   "source": [
    "\"\"\"\n",
    "DON'T MODIFY ANYTHING IN THIS CELL\n",
    "\"\"\"\n",
    "from distutils.version import LooseVersion\n",
    "import warnings\n",
    "import tensorflow as tf\n",
    "from tensorflow.python.layers.core import Dense\n",
    "\n",
    "# Check TensorFlow Version\n",
    "assert LooseVersion(tf.__version__) >= LooseVersion('1.1'), 'Please use TensorFlow version 1.1 or newer'\n",
    "print('TensorFlow Version: {}'.format(tf.__version__))\n",
    "\n",
    "# Check for a GPU\n",
    "if not tf.test.gpu_device_name():\n",
    "    warnings.warn('No GPU found. Please use a GPU to train your neural network.')\n",
    "else:\n",
    "    print('Default GPU Device: {}'.format(tf.test.gpu_device_name()))"
   ]
  },
  {
   "cell_type": "markdown",
   "metadata": {},
   "source": [
    "## Build the Neural Network\n",
    "You'll build the components necessary to build a Sequence-to-Sequence model by implementing the following functions below:\n",
    "- `model_inputs`\n",
    "- `process_decoder_input`\n",
    "- `encoding_layer`\n",
    "- `decoding_layer_train`\n",
    "- `decoding_layer_infer`\n",
    "- `decoding_layer`\n",
    "- `seq2seq_model`\n",
    "\n",
    "### Input\n",
    "Implement the `model_inputs()` function to create TF Placeholders for the Neural Network. It should create the following placeholders:\n",
    "\n",
    "- Input text placeholder named \"input\" using the TF Placeholder name parameter with rank 2.\n",
    "- Targets placeholder with rank 2.\n",
    "- Learning rate placeholder with rank 0.\n",
    "- Keep probability placeholder named \"keep_prob\" using the TF Placeholder name parameter with rank 0.\n",
    "- Target sequence length placeholder named \"target_sequence_length\" with rank 1\n",
    "- Max target sequence length tensor named \"max_target_len\" getting its value from applying tf.reduce_max on the target_sequence_length placeholder. Rank 0.\n",
    "- Source sequence length placeholder named \"source_sequence_length\" with rank 1\n",
    "\n",
    "Return the placeholders in the following the tuple (input, targets, learning rate, keep probability, target sequence length, max target sequence length, source sequence length)"
   ]
  },
  {
   "cell_type": "code",
   "execution_count": 3,
   "metadata": {},
   "outputs": [
    {
     "name": "stdout",
     "output_type": "stream",
     "text": [
      "ERROR:tensorflow:==================================\n",
      "Object was never used (type <class 'tensorflow.python.framework.ops.Operation'>):\n",
      "<tf.Operation 'assert_rank_2/Assert/Assert' type=Assert>\n",
      "If you want to mark it as used call its \"mark_used()\" method.\n",
      "It was originally created here:\n",
      "['File \"/home/carnd/anaconda3/envs/transaltor/lib/python3.6/runpy.py\", line 193, in _run_module_as_main\\n    \"__main__\", mod_spec)', 'File \"/home/carnd/anaconda3/envs/transaltor/lib/python3.6/runpy.py\", line 85, in _run_code\\n    exec(code, run_globals)', 'File \"/home/carnd/anaconda3/envs/transaltor/lib/python3.6/site-packages/ipykernel_launcher.py\", line 16, in <module>\\n    app.launch_new_instance()', 'File \"/home/carnd/anaconda3/envs/transaltor/lib/python3.6/site-packages/traitlets/config/application.py\", line 658, in launch_instance\\n    app.start()', 'File \"/home/carnd/anaconda3/envs/transaltor/lib/python3.6/site-packages/ipykernel/kernelapp.py\", line 477, in start\\n    ioloop.IOLoop.instance().start()', 'File \"/home/carnd/anaconda3/envs/transaltor/lib/python3.6/site-packages/zmq/eventloop/ioloop.py\", line 177, in start\\n    super(ZMQIOLoop, self).start()', 'File \"/home/carnd/anaconda3/envs/transaltor/lib/python3.6/site-packages/tornado/ioloop.py\", line 888, in start\\n    handler_func(fd_obj, events)', 'File \"/home/carnd/anaconda3/envs/transaltor/lib/python3.6/site-packages/tornado/stack_context.py\", line 277, in null_wrapper\\n    return fn(*args, **kwargs)', 'File \"/home/carnd/anaconda3/envs/transaltor/lib/python3.6/site-packages/zmq/eventloop/zmqstream.py\", line 440, in _handle_events\\n    self._handle_recv()', 'File \"/home/carnd/anaconda3/envs/transaltor/lib/python3.6/site-packages/zmq/eventloop/zmqstream.py\", line 472, in _handle_recv\\n    self._run_callback(callback, msg)', 'File \"/home/carnd/anaconda3/envs/transaltor/lib/python3.6/site-packages/zmq/eventloop/zmqstream.py\", line 414, in _run_callback\\n    callback(*args, **kwargs)', 'File \"/home/carnd/anaconda3/envs/transaltor/lib/python3.6/site-packages/tornado/stack_context.py\", line 277, in null_wrapper\\n    return fn(*args, **kwargs)', 'File \"/home/carnd/anaconda3/envs/transaltor/lib/python3.6/site-packages/ipykernel/kernelbase.py\", line 283, in dispatcher\\n    return self.dispatch_shell(stream, msg)', 'File \"/home/carnd/anaconda3/envs/transaltor/lib/python3.6/site-packages/ipykernel/kernelbase.py\", line 235, in dispatch_shell\\n    handler(stream, idents, msg)', 'File \"/home/carnd/anaconda3/envs/transaltor/lib/python3.6/site-packages/ipykernel/kernelbase.py\", line 399, in execute_request\\n    user_expressions, allow_stdin)', 'File \"/home/carnd/anaconda3/envs/transaltor/lib/python3.6/site-packages/ipykernel/ipkernel.py\", line 196, in do_execute\\n    res = shell.run_cell(code, store_history=store_history, silent=silent)', 'File \"/home/carnd/anaconda3/envs/transaltor/lib/python3.6/site-packages/ipykernel/zmqshell.py\", line 533, in run_cell\\n    return super(ZMQInteractiveShell, self).run_cell(*args, **kwargs)', 'File \"/home/carnd/anaconda3/envs/transaltor/lib/python3.6/site-packages/IPython/core/interactiveshell.py\", line 2698, in run_cell\\n    interactivity=interactivity, compiler=compiler, result=result)', 'File \"/home/carnd/anaconda3/envs/transaltor/lib/python3.6/site-packages/IPython/core/interactiveshell.py\", line 2808, in run_ast_nodes\\n    if self.run_code(code, result):', 'File \"/home/carnd/anaconda3/envs/transaltor/lib/python3.6/site-packages/IPython/core/interactiveshell.py\", line 2862, in run_code\\n    exec(code_obj, self.user_global_ns, self.user_ns)', 'File \"<ipython-input-3-4f671d3438a0>\", line 22, in <module>\\n    tests.test_model_inputs(model_inputs)', 'File \"/home/carnd/translator/problem_unittests.py\", line 106, in test_model_inputs\\n    assert tf.assert_rank(lr, 0, message=\\'Learning Rate has wrong rank\\')', 'File \"/home/carnd/anaconda3/envs/transaltor/lib/python3.6/site-packages/tensorflow/python/ops/check_ops.py\", line 617, in assert_rank\\n    dynamic_condition, data, summarize)', 'File \"/home/carnd/anaconda3/envs/transaltor/lib/python3.6/site-packages/tensorflow/python/ops/check_ops.py\", line 571, in _assert_rank_condition\\n    return control_flow_ops.Assert(condition, data, summarize=summarize)', 'File \"/home/carnd/anaconda3/envs/transaltor/lib/python3.6/site-packages/tensorflow/python/util/tf_should_use.py\", line 175, in wrapped\\n    return _add_should_use_warning(fn(*args, **kwargs))', 'File \"/home/carnd/anaconda3/envs/transaltor/lib/python3.6/site-packages/tensorflow/python/util/tf_should_use.py\", line 144, in _add_should_use_warning\\n    wrapped = TFShouldUseWarningWrapper(x)', 'File \"/home/carnd/anaconda3/envs/transaltor/lib/python3.6/site-packages/tensorflow/python/util/tf_should_use.py\", line 101, in __init__\\n    stack = [s.strip() for s in traceback.format_stack()]']\n",
      "==================================\n",
      "ERROR:tensorflow:==================================\n",
      "Object was never used (type <class 'tensorflow.python.framework.ops.Operation'>):\n",
      "<tf.Operation 'assert_rank_3/Assert/Assert' type=Assert>\n",
      "If you want to mark it as used call its \"mark_used()\" method.\n",
      "It was originally created here:\n",
      "['File \"/home/carnd/anaconda3/envs/transaltor/lib/python3.6/runpy.py\", line 193, in _run_module_as_main\\n    \"__main__\", mod_spec)', 'File \"/home/carnd/anaconda3/envs/transaltor/lib/python3.6/runpy.py\", line 85, in _run_code\\n    exec(code, run_globals)', 'File \"/home/carnd/anaconda3/envs/transaltor/lib/python3.6/site-packages/ipykernel_launcher.py\", line 16, in <module>\\n    app.launch_new_instance()', 'File \"/home/carnd/anaconda3/envs/transaltor/lib/python3.6/site-packages/traitlets/config/application.py\", line 658, in launch_instance\\n    app.start()', 'File \"/home/carnd/anaconda3/envs/transaltor/lib/python3.6/site-packages/ipykernel/kernelapp.py\", line 477, in start\\n    ioloop.IOLoop.instance().start()', 'File \"/home/carnd/anaconda3/envs/transaltor/lib/python3.6/site-packages/zmq/eventloop/ioloop.py\", line 177, in start\\n    super(ZMQIOLoop, self).start()', 'File \"/home/carnd/anaconda3/envs/transaltor/lib/python3.6/site-packages/tornado/ioloop.py\", line 888, in start\\n    handler_func(fd_obj, events)', 'File \"/home/carnd/anaconda3/envs/transaltor/lib/python3.6/site-packages/tornado/stack_context.py\", line 277, in null_wrapper\\n    return fn(*args, **kwargs)', 'File \"/home/carnd/anaconda3/envs/transaltor/lib/python3.6/site-packages/zmq/eventloop/zmqstream.py\", line 440, in _handle_events\\n    self._handle_recv()', 'File \"/home/carnd/anaconda3/envs/transaltor/lib/python3.6/site-packages/zmq/eventloop/zmqstream.py\", line 472, in _handle_recv\\n    self._run_callback(callback, msg)', 'File \"/home/carnd/anaconda3/envs/transaltor/lib/python3.6/site-packages/zmq/eventloop/zmqstream.py\", line 414, in _run_callback\\n    callback(*args, **kwargs)', 'File \"/home/carnd/anaconda3/envs/transaltor/lib/python3.6/site-packages/tornado/stack_context.py\", line 277, in null_wrapper\\n    return fn(*args, **kwargs)', 'File \"/home/carnd/anaconda3/envs/transaltor/lib/python3.6/site-packages/ipykernel/kernelbase.py\", line 283, in dispatcher\\n    return self.dispatch_shell(stream, msg)', 'File \"/home/carnd/anaconda3/envs/transaltor/lib/python3.6/site-packages/ipykernel/kernelbase.py\", line 235, in dispatch_shell\\n    handler(stream, idents, msg)', 'File \"/home/carnd/anaconda3/envs/transaltor/lib/python3.6/site-packages/ipykernel/kernelbase.py\", line 399, in execute_request\\n    user_expressions, allow_stdin)', 'File \"/home/carnd/anaconda3/envs/transaltor/lib/python3.6/site-packages/ipykernel/ipkernel.py\", line 196, in do_execute\\n    res = shell.run_cell(code, store_history=store_history, silent=silent)', 'File \"/home/carnd/anaconda3/envs/transaltor/lib/python3.6/site-packages/ipykernel/zmqshell.py\", line 533, in run_cell\\n    return super(ZMQInteractiveShell, self).run_cell(*args, **kwargs)', 'File \"/home/carnd/anaconda3/envs/transaltor/lib/python3.6/site-packages/IPython/core/interactiveshell.py\", line 2698, in run_cell\\n    interactivity=interactivity, compiler=compiler, result=result)', 'File \"/home/carnd/anaconda3/envs/transaltor/lib/python3.6/site-packages/IPython/core/interactiveshell.py\", line 2808, in run_ast_nodes\\n    if self.run_code(code, result):', 'File \"/home/carnd/anaconda3/envs/transaltor/lib/python3.6/site-packages/IPython/core/interactiveshell.py\", line 2862, in run_code\\n    exec(code_obj, self.user_global_ns, self.user_ns)', 'File \"<ipython-input-3-4f671d3438a0>\", line 22, in <module>\\n    tests.test_model_inputs(model_inputs)', 'File \"/home/carnd/translator/problem_unittests.py\", line 107, in test_model_inputs\\n    assert tf.assert_rank(keep_prob, 0, message=\\'Keep Probability has wrong rank\\')', 'File \"/home/carnd/anaconda3/envs/transaltor/lib/python3.6/site-packages/tensorflow/python/ops/check_ops.py\", line 617, in assert_rank\\n    dynamic_condition, data, summarize)', 'File \"/home/carnd/anaconda3/envs/transaltor/lib/python3.6/site-packages/tensorflow/python/ops/check_ops.py\", line 571, in _assert_rank_condition\\n    return control_flow_ops.Assert(condition, data, summarize=summarize)', 'File \"/home/carnd/anaconda3/envs/transaltor/lib/python3.6/site-packages/tensorflow/python/util/tf_should_use.py\", line 175, in wrapped\\n    return _add_should_use_warning(fn(*args, **kwargs))', 'File \"/home/carnd/anaconda3/envs/transaltor/lib/python3.6/site-packages/tensorflow/python/util/tf_should_use.py\", line 144, in _add_should_use_warning\\n    wrapped = TFShouldUseWarningWrapper(x)', 'File \"/home/carnd/anaconda3/envs/transaltor/lib/python3.6/site-packages/tensorflow/python/util/tf_should_use.py\", line 101, in __init__\\n    stack = [s.strip() for s in traceback.format_stack()]']\n",
      "==================================\n"
     ]
    },
    {
     "name": "stdout",
     "output_type": "stream",
     "text": [
      "Tests Passed\n"
     ]
    }
   ],
   "source": [
    "def model_inputs():\n",
    "    \"\"\"\n",
    "    Create TF Placeholders for input, targets, learning rate, and lengths of source and target sequences.\n",
    "    :return: Tuple (input, targets, learning rate, keep probability, target sequence length,\n",
    "    max target sequence length, source sequence length)\n",
    "    \"\"\"\n",
    "    # TODO: Implement Function\n",
    "    input_data = tf.placeholder(tf.int32, [None, None], name=\"input\")\n",
    "    target_data = tf.placeholder(tf.int32, [None, None], name=\"target\")\n",
    "    lr = tf.placeholder(tf.float32, name=\"learning_rate\")\n",
    "    keep_prob = tf.placeholder(tf.float32, name=\"keep_prob\")\n",
    "    target_seq_length = tf.placeholder(tf.int32, (None,), name=\"target_sequence_length\")\n",
    "    max_target_length = tf.reduce_max(target_seq_length, name='max_target_len')\n",
    "    source_seq_length = tf.placeholder(tf.int32, (None,), name=\"source_sequence_length\")\n",
    "\n",
    "    return input_data, target_data, lr, keep_prob, target_seq_length, max_target_length, source_seq_length\n",
    "\n",
    "\n",
    "\"\"\"\n",
    "DON'T MODIFY ANYTHING IN THIS CELL THAT IS BELOW THIS LINE\n",
    "\"\"\"\n",
    "tests.test_model_inputs(model_inputs)"
   ]
  },
  {
   "cell_type": "markdown",
   "metadata": {},
   "source": [
    "### Process Decoder Input\n",
    "Implement `process_decoder_input` by removing the last word id from each batch in `target_data` and concat the GO ID to the begining of each batch."
   ]
  },
  {
   "cell_type": "code",
   "execution_count": 4,
   "metadata": {},
   "outputs": [
    {
     "name": "stdout",
     "output_type": "stream",
     "text": [
      "Tests Passed\n"
     ]
    }
   ],
   "source": [
    "def process_decoder_input(target_data, target_vocab_to_int, batch_size):\n",
    "    \"\"\"\n",
    "    Preprocess target data for encoding\n",
    "    :param target_data: Target Placehoder\n",
    "    :param target_vocab_to_int: Dictionary to go from the target words to an id\n",
    "    :param batch_size: Batch Size\n",
    "    :return: Preprocessed target data\n",
    "    \"\"\"\n",
    "    # TODO: Implement Function\n",
    "    ending = tf.strided_slice(target_data, [0, 0], [batch_size, -1], [1, 1])\n",
    "    decoder_input = tf.concat([tf.fill([batch_size, 1], target_vocab_to_int['<GO>']), ending], 1)\n",
    "    return decoder_input\n",
    "\n",
    "\"\"\"\n",
    "DON'T MODIFY ANYTHING IN THIS CELL THAT IS BELOW THIS LINE\n",
    "\"\"\"\n",
    "tests.test_process_encoding_input(process_decoder_input)"
   ]
  },
  {
   "cell_type": "markdown",
   "metadata": {},
   "source": [
    "### Encoding\n",
    "Implement `encoding_layer()` to create a Encoder RNN layer:\n",
    " * Embed the encoder input using [`tf.contrib.layers.embed_sequence`](https://www.tensorflow.org/api_docs/python/tf/contrib/layers/embed_sequence)\n",
    " * Construct a [stacked](https://github.com/tensorflow/tensorflow/blob/6947f65a374ebf29e74bb71e36fd82760056d82c/tensorflow/docs_src/tutorials/recurrent.md#stacking-multiple-lstms) [`tf.contrib.rnn.LSTMCell`](https://www.tensorflow.org/api_docs/python/tf/contrib/rnn/LSTMCell) wrapped in a [`tf.contrib.rnn.DropoutWrapper`](https://www.tensorflow.org/api_docs/python/tf/contrib/rnn/DropoutWrapper)\n",
    " * Pass cell and embedded input to [`tf.nn.dynamic_rnn()`](https://www.tensorflow.org/api_docs/python/tf/nn/dynamic_rnn)"
   ]
  },
  {
   "cell_type": "code",
   "execution_count": 5,
   "metadata": {
    "scrolled": false
   },
   "outputs": [
    {
     "name": "stdout",
     "output_type": "stream",
     "text": [
      "Tests Passed\n"
     ]
    }
   ],
   "source": [
    "from imp import reload\n",
    "reload(tests)\n",
    "\n",
    "def encoding_layer(rnn_inputs, rnn_size, num_layers, keep_prob, \n",
    "                   source_sequence_length, source_vocab_size, \n",
    "                   encoding_embedding_size):\n",
    "    \"\"\"\n",
    "    Create encoding layer\n",
    "    :param rnn_inputs: Inputs for the RNN\n",
    "    :param rnn_size: RNN Size\n",
    "    :param num_layers: Number of layers\n",
    "    :param keep_prob: Dropout keep probability\n",
    "    :param source_sequence_length: a list of the lengths of each sequence in the batch\n",
    "    :param source_vocab_size: vocabulary size of source data\n",
    "    :param encoding_embedding_size: embedding size of source data\n",
    "    :return: tuple (RNN output, RNN state)\n",
    "    \"\"\"\n",
    "    encod_embed_input = tf.contrib.layers.embed_sequence(rnn_inputs, source_vocab_size, encoding_embedding_size)\n",
    "    \n",
    "    # lstm cell\n",
    "    def lstm_cell(rnn_size):\n",
    "        cell = tf.contrib.rnn.LSTMCell(rnn_size, initializer=tf.random_uniform_initializer(-0.1, 0.1, seed=2))\n",
    "        cell = tf.contrib.rnn.DropoutWrapper(cell, output_keep_prob=keep_prob)\n",
    "        return cell\n",
    "    \n",
    "    encod_cell = tf.contrib.rnn.MultiRNNCell([lstm_cell(rnn_size) for _ in range(num_layers)])\n",
    "    encod_output, encod_state = tf.nn.dynamic_rnn(encod_cell,\n",
    "                                                  encod_embed_input,\n",
    "                                                  sequence_length=source_sequence_length,\n",
    "                                                  dtype=tf.float32)\n",
    "    \n",
    "    return encod_output, encod_state\n",
    "\n",
    "\"\"\"\n",
    "DON'T MODIFY ANYTHING IN THIS CELL THAT IS BELOW THIS LINE\n",
    "\"\"\"\n",
    "tests.test_encoding_layer(encoding_layer)"
   ]
  },
  {
   "cell_type": "markdown",
   "metadata": {},
   "source": [
    "### Decoding - Training\n",
    "Create a training decoding layer:\n",
    "* Create a [`tf.contrib.seq2seq.TrainingHelper`](https://www.tensorflow.org/api_docs/python/tf/contrib/seq2seq/TrainingHelper) \n",
    "* Create a [`tf.contrib.seq2seq.BasicDecoder`](https://www.tensorflow.org/api_docs/python/tf/contrib/seq2seq/BasicDecoder)\n",
    "* Obtain the decoder outputs from [`tf.contrib.seq2seq.dynamic_decode`](https://www.tensorflow.org/api_docs/python/tf/contrib/seq2seq/dynamic_decode)"
   ]
  },
  {
   "cell_type": "code",
   "execution_count": 6,
   "metadata": {},
   "outputs": [
    {
     "name": "stdout",
     "output_type": "stream",
     "text": [
      "Tests Passed\n"
     ]
    }
   ],
   "source": [
    "\n",
    "def decoding_layer_train(encoder_state, dec_cell, dec_embed_input, \n",
    "                         target_sequence_length, max_summary_length, \n",
    "                         output_layer, keep_prob):\n",
    "    \"\"\"\n",
    "    Create a decoding layer for training\n",
    "    :param encoder_state: Encoder State\n",
    "    :param dec_cell: Decoder RNN Cell\n",
    "    :param dec_embed_input: Decoder embedded input\n",
    "    :param target_sequence_length: The lengths of each sequence in the target batch\n",
    "    :param max_summary_length: The length of the longest sequence in the batch\n",
    "    :param output_layer: Function to apply the output layer\n",
    "    :param keep_prob: Dropout keep probability\n",
    "    :return: BasicDecoderOutput containing training logits and sample_id\n",
    "    \"\"\"\n",
    "    training_helper = tf.contrib.seq2seq.TrainingHelper(inputs=dec_embed_input,\n",
    "                                                        sequence_length=target_sequence_length,\n",
    "                                                        time_major=False)\n",
    "    \n",
    "    training_decoder = tf.contrib.seq2seq.BasicDecoder(dec_cell, training_helper, encoder_state, output_layer)\n",
    "    \n",
    "    training_decoder_output = tf.contrib.seq2seq.dynamic_decode(training_decoder,\n",
    "                                                                impute_finished=True,\n",
    "                                                                maximum_iterations=max_summary_length)[0]\n",
    "    return training_decoder_output\n",
    "\n",
    "\n",
    "\n",
    "\"\"\"\n",
    "DON'T MODIFY ANYTHING IN THIS CELL THAT IS BELOW THIS LINE\n",
    "\"\"\"\n",
    "tests.test_decoding_layer_train(decoding_layer_train)"
   ]
  },
  {
   "cell_type": "markdown",
   "metadata": {},
   "source": [
    "### Decoding - Inference\n",
    "Create inference decoder:\n",
    "* Create a [`tf.contrib.seq2seq.GreedyEmbeddingHelper`](https://www.tensorflow.org/api_docs/python/tf/contrib/seq2seq/GreedyEmbeddingHelper)\n",
    "* Create a [`tf.contrib.seq2seq.BasicDecoder`](https://www.tensorflow.org/api_docs/python/tf/contrib/seq2seq/BasicDecoder)\n",
    "* Obtain the decoder outputs from [`tf.contrib.seq2seq.dynamic_decode`](https://www.tensorflow.org/api_docs/python/tf/contrib/seq2seq/dynamic_decode)"
   ]
  },
  {
   "cell_type": "code",
   "execution_count": 7,
   "metadata": {
    "scrolled": true
   },
   "outputs": [
    {
     "name": "stdout",
     "output_type": "stream",
     "text": [
      "Tests Passed\n"
     ]
    }
   ],
   "source": [
    "def decoding_layer_infer(encoder_state, dec_cell, dec_embeddings, start_of_sequence_id,\n",
    "                         end_of_sequence_id, max_target_sequence_length,\n",
    "                         vocab_size, output_layer, batch_size, keep_prob):\n",
    "    \"\"\"\n",
    "    Create a decoding layer for inference\n",
    "    :param encoder_state: Encoder state\n",
    "    :param dec_cell: Decoder RNN Cell\n",
    "    :param dec_embeddings: Decoder embeddings\n",
    "    :param start_of_sequence_id: GO ID\n",
    "    :param end_of_sequence_id: EOS Id\n",
    "    :param max_target_sequence_length: Maximum length of target sequences\n",
    "    :param vocab_size: Size of decoder/target vocabulary\n",
    "    :param decoding_scope: TenorFlow Variable Scope for decoding\n",
    "    :param output_layer: Function to apply the output layer\n",
    "    :param batch_size: Batch size\n",
    "    :param keep_prob: Dropout keep probability\n",
    "    :return: BasicDecoderOutput containing inference logits and sample_id\n",
    "    \"\"\"\n",
    "    start_tokens = tf.tile(tf.constant([start_of_sequence_id], dtype=tf.int32), [batch_size], name=\"start_tokens\")\n",
    "    inference_helper = tf.contrib.seq2seq.GreedyEmbeddingHelper(dec_embeddings, start_tokens, end_of_sequence_id)\n",
    "    \n",
    "    inference_decoder = tf.contrib.seq2seq.BasicDecoder(dec_cell,\n",
    "                                                        inference_helper,\n",
    "                                                        encoder_state,\n",
    "                                                        output_layer)\n",
    "    \n",
    "    inference_decoder_output = tf.contrib.seq2seq.dynamic_decode(inference_decoder,\n",
    "                                                                 impute_finished=True,\n",
    "                                                                 maximum_iterations=max_target_sequence_length)[0]\n",
    "    return inference_decoder_output\n",
    "\n",
    "\n",
    "\n",
    "\"\"\"\n",
    "DON'T MODIFY ANYTHING IN THIS CELL THAT IS BELOW THIS LINE\n",
    "\"\"\"\n",
    "tests.test_decoding_layer_infer(decoding_layer_infer)"
   ]
  },
  {
   "cell_type": "markdown",
   "metadata": {},
   "source": [
    "### Build the Decoding Layer\n",
    "Implement `decoding_layer()` to create a Decoder RNN layer.\n",
    "\n",
    "* Embed the target sequences\n",
    "* Construct the decoder LSTM cell (just like you constructed the encoder cell above)\n",
    "* Create an output layer to map the outputs of the decoder to the elements of our vocabulary\n",
    "* Use the your `decoding_layer_train(encoder_state, dec_cell, dec_embed_input, target_sequence_length, max_target_sequence_length, output_layer, keep_prob)` function to get the training logits.\n",
    "* Use your `decoding_layer_infer(encoder_state, dec_cell, dec_embeddings, start_of_sequence_id, end_of_sequence_id, max_target_sequence_length, vocab_size, output_layer, batch_size, keep_prob)` function to get the inference logits.\n",
    "\n",
    "Note: You'll need to use [tf.variable_scope](https://www.tensorflow.org/api_docs/python/tf/variable_scope) to share variables between training and inference."
   ]
  },
  {
   "cell_type": "code",
   "execution_count": 8,
   "metadata": {},
   "outputs": [
    {
     "name": "stdout",
     "output_type": "stream",
     "text": [
      "Tests Passed\n"
     ]
    }
   ],
   "source": [
    "def decoding_layer(dec_input, encoder_state,\n",
    "                   target_sequence_length, max_target_sequence_length,\n",
    "                   rnn_size,\n",
    "                   num_layers, target_vocab_to_int, target_vocab_size,\n",
    "                   batch_size, keep_prob, decoding_embedding_size):\n",
    "    \"\"\"\n",
    "    Create decoding layer\n",
    "    :param dec_input: Decoder input\n",
    "    :param encoder_state: Encoder state\n",
    "    :param target_sequence_length: The lengths of each sequence in the target batch\n",
    "    :param max_target_sequence_length: Maximum length of target sequences\n",
    "    :param rnn_size: RNN Size\n",
    "    :param num_layers: Number of layers\n",
    "    :param target_vocab_to_int: Dictionary to go from the target words to an id\n",
    "    :param target_vocab_size: Size of target vocabulary\n",
    "    :param batch_size: The size of the batch\n",
    "    :param keep_prob: Dropout keep probability\n",
    "    :param decoding_embedding_size: Decoding embedding size\n",
    "    :return: Tuple of (Training BasicDecoderOutput, Inference BasicDecoderOutput)\n",
    "    \"\"\"\n",
    "    dec_embeddings = tf.Variable(tf.random_uniform([target_vocab_size, decoding_embedding_size]))\n",
    "    dec_embedding_input = tf.nn.embedding_lookup(dec_embeddings, dec_input)\n",
    "    \n",
    "    # lstm cell\n",
    "    def lstm_cell(rnn_size):\n",
    "        cell = tf.contrib.rnn.LSTMCell(rnn_size, initializer=tf.random_uniform_initializer(-0.1, 0.1, seed=2))\n",
    "        cell = tf.contrib.rnn.DropoutWrapper(cell, output_keep_prob=keep_prob)\n",
    "        return cell\n",
    "\n",
    "    dec_cell = tf.contrib.rnn.MultiRNNCell([lstm_cell(rnn_size) for _ in range(num_layers)])\n",
    "    output_layer = Dense(target_vocab_size, kernel_initializer=tf.truncated_normal_initializer(mean=0.0, stddev=0.1))\n",
    "    \n",
    "    with tf.variable_scope(\"decode\"):\n",
    "        training_decoder = decoding_layer_train(encoder_state,\n",
    "                                                dec_cell,\n",
    "                                                dec_embedding_input,\n",
    "                                                target_sequence_length,\n",
    "                                                max_target_sequence_length,\n",
    "                                                output_layer,\n",
    "                                                keep_prob)\n",
    "    \n",
    "    with tf.variable_scope(\"decode\", reuse=True):    \n",
    "        infer_decoder = decoding_layer_infer(encoder_state,\n",
    "                                             dec_cell,\n",
    "                                             dec_embeddings,\n",
    "                                             target_vocab_to_int['<GO>'],\n",
    "                                             target_vocab_to_int['<EOS>'],\n",
    "                                             max_target_sequence_length,\n",
    "                                             target_vocab_size,\n",
    "                                             output_layer,\n",
    "                                             batch_size,\n",
    "                                             keep_prob)\n",
    "        \n",
    "    return training_decoder, infer_decoder\n",
    "\n",
    "\n",
    "\n",
    "\"\"\"\n",
    "DON'T MODIFY ANYTHING IN THIS CELL THAT IS BELOW THIS LINE\n",
    "\"\"\"\n",
    "tests.test_decoding_layer(decoding_layer)"
   ]
  },
  {
   "cell_type": "markdown",
   "metadata": {},
   "source": [
    "### Build the Neural Network\n",
    "Apply the functions you implemented above to:\n",
    "\n",
    "- Encode the input using your `encoding_layer(rnn_inputs, rnn_size, num_layers, keep_prob,  source_sequence_length, source_vocab_size, encoding_embedding_size)`.\n",
    "- Process target data using your `process_decoder_input(target_data, target_vocab_to_int, batch_size)` function.\n",
    "- Decode the encoded input using your `decoding_layer(dec_input, enc_state, target_sequence_length, max_target_sentence_length, rnn_size, num_layers, target_vocab_to_int, target_vocab_size, batch_size, keep_prob, dec_embedding_size)` function."
   ]
  },
  {
   "cell_type": "code",
   "execution_count": 9,
   "metadata": {},
   "outputs": [
    {
     "name": "stdout",
     "output_type": "stream",
     "text": [
      "Tests Passed\n"
     ]
    }
   ],
   "source": [
    "def seq2seq_model(input_data, target_data, keep_prob, batch_size,\n",
    "                  source_sequence_length, target_sequence_length,\n",
    "                  max_target_sentence_length,\n",
    "                  source_vocab_size, target_vocab_size,\n",
    "                  enc_embedding_size, dec_embedding_size,\n",
    "                  rnn_size, num_layers, target_vocab_to_int):\n",
    "    \"\"\"\n",
    "    Build the Sequence-to-Sequence part of the neural network\n",
    "    :param input_data: Input placeholder\n",
    "    :param target_data: Target placeholder\n",
    "    :param keep_prob: Dropout keep probability placeholder\n",
    "    :param batch_size: Batch Size\n",
    "    :param source_sequence_length: Sequence Lengths of source sequences in the batch\n",
    "    :param target_sequence_length: Sequence Lengths of target sequences in the batch\n",
    "    :param source_vocab_size: Source vocabulary size\n",
    "    :param target_vocab_size: Target vocabulary size\n",
    "    :param enc_embedding_size: Decoder embedding size\n",
    "    :param dec_embedding_size: Encoder embedding size\n",
    "    :param rnn_size: RNN Size\n",
    "    :param num_layers: Number of layers\n",
    "    :param target_vocab_to_int: Dictionary to go from the target words to an id\n",
    "    :return: Tuple of (Training BasicDecoderOutput, Inference BasicDecoderOutput)\n",
    "    \"\"\"\n",
    "    # TODO: Implement Function\n",
    "    encod_output, encod_state = encoding_layer(input_data,\n",
    "                                               rnn_size,\n",
    "                                               num_layers,\n",
    "                                               keep_prob,\n",
    "                                               source_sequence_length,\n",
    "                                               source_vocab_size,\n",
    "                                               enc_embedding_size)\n",
    "    \n",
    "    decoder_input = process_decoder_input(target_data, target_vocab_to_int, batch_size)\n",
    "    training_decoder_output, infer_decoder_output = decoding_layer(decoder_input,\n",
    "                                                                   encod_state,\n",
    "                                                                   target_sequence_length,\n",
    "                                                                   max_target_sentence_length,\n",
    "                                                                   rnn_size, num_layers,\n",
    "                                                                   target_vocab_to_int,\n",
    "                                                                   target_vocab_size,\n",
    "                                                                   batch_size,\n",
    "                                                                   keep_prob,\n",
    "                                                                   dec_embedding_size)\n",
    "    return training_decoder_output, infer_decoder_output\n",
    "\n",
    "\n",
    "\"\"\"\n",
    "DON'T MODIFY ANYTHING IN THIS CELL THAT IS BELOW THIS LINE\n",
    "\"\"\"\n",
    "tests.test_seq2seq_model(seq2seq_model)"
   ]
  },
  {
   "cell_type": "markdown",
   "metadata": {},
   "source": [
    "## Neural Network Training\n",
    "### Hyperparameters\n",
    "Tune the following parameters:\n",
    "\n",
    "- Set `epochs` to the number of epochs.\n",
    "- Set `batch_size` to the batch size.\n",
    "- Set `rnn_size` to the size of the RNNs.\n",
    "- Set `num_layers` to the number of layers.\n",
    "- Set `encoding_embedding_size` to the size of the embedding for the encoder.\n",
    "- Set `decoding_embedding_size` to the size of the embedding for the decoder.\n",
    "- Set `learning_rate` to the learning rate.\n",
    "- Set `keep_probability` to the Dropout keep probability\n",
    "- Set `display_step` to state how many steps between each debug output statement"
   ]
  },
  {
   "cell_type": "code",
   "execution_count": 10,
   "metadata": {
    "collapsed": true
   },
   "outputs": [],
   "source": [
    "# Number of Epochs\n",
    "epochs = 35\n",
    "# Batch Size\n",
    "batch_size = 256\n",
    "# RNN Size\n",
    "rnn_size = 50\n",
    "# Number of Layers\n",
    "num_layers = 3\n",
    "# Embedding Size\n",
    "encoding_embedding_size = 100\n",
    "decoding_embedding_size = 100\n",
    "# Learning Rate\n",
    "learning_rate = 0.001\n",
    "# Dropout Keep Probability\n",
    "keep_probability = 0.7\n",
    "display_step = 100"
   ]
  },
  {
   "cell_type": "markdown",
   "metadata": {},
   "source": [
    "### Build the Graph\n",
    "Build the graph using the neural network you implemented."
   ]
  },
  {
   "cell_type": "code",
   "execution_count": 11,
   "metadata": {
    "collapsed": true
   },
   "outputs": [],
   "source": [
    "\"\"\"\n",
    "DON'T MODIFY ANYTHING IN THIS CELL\n",
    "\"\"\"\n",
    "save_path = 'checkpoints/dev'\n",
    "(source_int_text, target_int_text), (source_vocab_to_int, target_vocab_to_int), _ = helper.load_preprocess()\n",
    "max_target_sentence_length = max([len(sentence) for sentence in source_int_text])\n",
    "\n",
    "train_graph = tf.Graph()\n",
    "with train_graph.as_default():\n",
    "    input_data, targets, lr, keep_prob, target_sequence_length, max_target_sequence_length, source_sequence_length = model_inputs()\n",
    "\n",
    "    #sequence_length = tf.placeholder_with_default(max_target_sentence_length, None, name='sequence_length')\n",
    "    input_shape = tf.shape(input_data)\n",
    "\n",
    "    train_logits, inference_logits = seq2seq_model(tf.reverse(input_data, [-1]),\n",
    "                                                   targets,\n",
    "                                                   keep_prob,\n",
    "                                                   batch_size,\n",
    "                                                   source_sequence_length,\n",
    "                                                   target_sequence_length,\n",
    "                                                   max_target_sequence_length,\n",
    "                                                   len(source_vocab_to_int),\n",
    "                                                   len(target_vocab_to_int),\n",
    "                                                   encoding_embedding_size,\n",
    "                                                   decoding_embedding_size,\n",
    "                                                   rnn_size,\n",
    "                                                   num_layers,\n",
    "                                                   target_vocab_to_int)\n",
    "\n",
    "\n",
    "    training_logits = tf.identity(train_logits.rnn_output, name='logits')\n",
    "    inference_logits = tf.identity(inference_logits.sample_id, name='predictions')\n",
    "\n",
    "    masks = tf.sequence_mask(target_sequence_length, max_target_sequence_length, dtype=tf.float32, name='masks')\n",
    "\n",
    "    with tf.name_scope(\"optimization\"):\n",
    "        # Loss function\n",
    "        cost = tf.contrib.seq2seq.sequence_loss(\n",
    "            training_logits,\n",
    "            targets,\n",
    "            masks)\n",
    "\n",
    "        # Optimizer\n",
    "        optimizer = tf.train.AdamOptimizer(lr)\n",
    "\n",
    "        # Gradient Clipping\n",
    "        gradients = optimizer.compute_gradients(cost)\n",
    "        capped_gradients = [(tf.clip_by_value(grad, -1., 1.), var) for grad, var in gradients if grad is not None]\n",
    "        train_op = optimizer.apply_gradients(capped_gradients)\n"
   ]
  },
  {
   "cell_type": "markdown",
   "metadata": {},
   "source": [
    "Batch and pad the source and target sequences"
   ]
  },
  {
   "cell_type": "code",
   "execution_count": 12,
   "metadata": {
    "collapsed": true
   },
   "outputs": [],
   "source": [
    "\"\"\"\n",
    "DON'T MODIFY ANYTHING IN THIS CELL\n",
    "\"\"\"\n",
    "def pad_sentence_batch(sentence_batch, pad_int):\n",
    "    \"\"\"Pad sentences with <PAD> so that each sentence of a batch has the same length\"\"\"\n",
    "    max_sentence = max([len(sentence) for sentence in sentence_batch])\n",
    "    return [sentence + [pad_int] * (max_sentence - len(sentence)) for sentence in sentence_batch]\n",
    "\n",
    "\n",
    "def get_batches(sources, targets, batch_size, source_pad_int, target_pad_int):\n",
    "    \"\"\"Batch targets, sources, and the lengths of their sentences together\"\"\"\n",
    "    for batch_i in range(0, len(sources)//batch_size):\n",
    "        start_i = batch_i * batch_size\n",
    "\n",
    "        # Slice the right amount for the batch\n",
    "        sources_batch = sources[start_i:start_i + batch_size]\n",
    "        targets_batch = targets[start_i:start_i + batch_size]\n",
    "\n",
    "        # Pad\n",
    "        pad_sources_batch = np.array(pad_sentence_batch(sources_batch, source_pad_int))\n",
    "        pad_targets_batch = np.array(pad_sentence_batch(targets_batch, target_pad_int))\n",
    "\n",
    "        # Need the lengths for the _lengths parameters\n",
    "        pad_targets_lengths = []\n",
    "        for target in pad_targets_batch:\n",
    "            pad_targets_lengths.append(len(target))\n",
    "\n",
    "        pad_source_lengths = []\n",
    "        for source in pad_sources_batch:\n",
    "            pad_source_lengths.append(len(source))\n",
    "\n",
    "        yield pad_sources_batch, pad_targets_batch, pad_source_lengths, pad_targets_lengths\n"
   ]
  },
  {
   "cell_type": "markdown",
   "metadata": {},
   "source": [
    "### Train\n",
    "Train the neural network on the preprocessed data. If you have a hard time getting a good loss, check the forms to see if anyone is having the same problem."
   ]
  },
  {
   "cell_type": "code",
   "execution_count": 13,
   "metadata": {
    "scrolled": false
   },
   "outputs": [
    {
     "name": "stdout",
     "output_type": "stream",
     "text": [
      "Epoch   0 Batch  100/538 - Train Accuracy: 0.2795, Validation Accuracy: 0.3469, Loss: 3.2648\n",
      "Epoch   0 Batch  200/538 - Train Accuracy: 0.3355, Validation Accuracy: 0.4018, Loss: 2.8805\n",
      "Epoch   0 Batch  300/538 - Train Accuracy: 0.4388, Validation Accuracy: 0.4679, Loss: 2.4758\n",
      "Epoch   0 Batch  400/538 - Train Accuracy: 0.4648, Validation Accuracy: 0.4854, Loss: 2.3009\n",
      "Epoch   0 Batch  500/538 - Train Accuracy: 0.4931, Validation Accuracy: 0.4959, Loss: 2.0283\n",
      "Epoch   1 Batch  100/538 - Train Accuracy: 0.4596, Validation Accuracy: 0.5005, Loss: 1.8812\n",
      "Epoch   1 Batch  200/538 - Train Accuracy: 0.4553, Validation Accuracy: 0.4973, Loss: 1.7498\n",
      "Epoch   1 Batch  300/538 - Train Accuracy: 0.5123, Validation Accuracy: 0.5252, Loss: 1.5138\n",
      "Epoch   1 Batch  400/538 - Train Accuracy: 0.4957, Validation Accuracy: 0.5229, Loss: 1.4353\n",
      "Epoch   1 Batch  500/538 - Train Accuracy: 0.4718, Validation Accuracy: 0.4707, Loss: 1.2316\n",
      "Epoch   2 Batch  100/538 - Train Accuracy: 0.3633, Validation Accuracy: 0.3965, Loss: 1.1726\n",
      "Epoch   2 Batch  200/538 - Train Accuracy: 0.3891, Validation Accuracy: 0.4407, Loss: 1.1182\n",
      "Epoch   2 Batch  300/538 - Train Accuracy: 0.4182, Validation Accuracy: 0.4389, Loss: 1.0014\n",
      "Epoch   2 Batch  400/538 - Train Accuracy: 0.4853, Validation Accuracy: 0.4984, Loss: 0.9950\n",
      "Epoch   2 Batch  500/538 - Train Accuracy: 0.5726, Validation Accuracy: 0.5808, Loss: 0.8931\n",
      "Epoch   3 Batch  100/538 - Train Accuracy: 0.5758, Validation Accuracy: 0.5886, Loss: 0.9060\n",
      "Epoch   3 Batch  200/538 - Train Accuracy: 0.5783, Validation Accuracy: 0.5978, Loss: 0.8797\n",
      "Epoch   3 Batch  300/538 - Train Accuracy: 0.6047, Validation Accuracy: 0.6001, Loss: 0.8308\n",
      "Epoch   3 Batch  400/538 - Train Accuracy: 0.5742, Validation Accuracy: 0.6067, Loss: 0.8210\n",
      "Epoch   3 Batch  500/538 - Train Accuracy: 0.6238, Validation Accuracy: 0.6188, Loss: 0.7441\n",
      "Epoch   4 Batch  100/538 - Train Accuracy: 0.6045, Validation Accuracy: 0.6239, Loss: 0.7603\n",
      "Epoch   4 Batch  200/538 - Train Accuracy: 0.6074, Validation Accuracy: 0.6252, Loss: 0.7389\n",
      "Epoch   4 Batch  300/538 - Train Accuracy: 0.6075, Validation Accuracy: 0.6270, Loss: 0.7090\n",
      "Epoch   4 Batch  400/538 - Train Accuracy: 0.5952, Validation Accuracy: 0.6154, Loss: 0.7078\n",
      "Epoch   4 Batch  500/538 - Train Accuracy: 0.6419, Validation Accuracy: 0.6186, Loss: 0.6554\n",
      "Epoch   5 Batch  100/538 - Train Accuracy: 0.6256, Validation Accuracy: 0.6181, Loss: 0.6801\n",
      "Epoch   5 Batch  200/538 - Train Accuracy: 0.6264, Validation Accuracy: 0.6286, Loss: 0.6595\n",
      "Epoch   5 Batch  300/538 - Train Accuracy: 0.6302, Validation Accuracy: 0.6264, Loss: 0.6463\n",
      "Epoch   5 Batch  400/538 - Train Accuracy: 0.6302, Validation Accuracy: 0.6387, Loss: 0.6368\n",
      "Epoch   5 Batch  500/538 - Train Accuracy: 0.6834, Validation Accuracy: 0.6246, Loss: 0.6040\n",
      "Epoch   6 Batch  100/538 - Train Accuracy: 0.6697, Validation Accuracy: 0.6424, Loss: 0.6031\n",
      "Epoch   6 Batch  200/538 - Train Accuracy: 0.6668, Validation Accuracy: 0.6618, Loss: 0.5895\n",
      "Epoch   6 Batch  300/538 - Train Accuracy: 0.6523, Validation Accuracy: 0.6472, Loss: 0.5827\n",
      "Epoch   6 Batch  400/538 - Train Accuracy: 0.6721, Validation Accuracy: 0.6621, Loss: 0.5700\n",
      "Epoch   6 Batch  500/538 - Train Accuracy: 0.7163, Validation Accuracy: 0.6685, Loss: 0.5215\n",
      "Epoch   7 Batch  100/538 - Train Accuracy: 0.6924, Validation Accuracy: 0.6628, Loss: 0.5340\n",
      "Epoch   7 Batch  200/538 - Train Accuracy: 0.6914, Validation Accuracy: 0.6706, Loss: 0.5322\n",
      "Epoch   7 Batch  300/538 - Train Accuracy: 0.6944, Validation Accuracy: 0.6744, Loss: 0.5092\n",
      "Epoch   7 Batch  400/538 - Train Accuracy: 0.6935, Validation Accuracy: 0.6824, Loss: 0.5001\n",
      "Epoch   7 Batch  500/538 - Train Accuracy: 0.7337, Validation Accuracy: 0.6852, Loss: 0.4721\n",
      "Epoch   8 Batch  100/538 - Train Accuracy: 0.7129, Validation Accuracy: 0.6749, Loss: 0.4798\n",
      "Epoch   8 Batch  200/538 - Train Accuracy: 0.7092, Validation Accuracy: 0.6841, Loss: 0.4736\n",
      "Epoch   8 Batch  300/538 - Train Accuracy: 0.7305, Validation Accuracy: 0.6973, Loss: 0.4562\n",
      "Epoch   8 Batch  400/538 - Train Accuracy: 0.7139, Validation Accuracy: 0.6974, Loss: 0.4531\n",
      "Epoch   8 Batch  500/538 - Train Accuracy: 0.7466, Validation Accuracy: 0.7045, Loss: 0.4202\n",
      "Epoch   9 Batch  100/538 - Train Accuracy: 0.7410, Validation Accuracy: 0.6859, Loss: 0.4406\n",
      "Epoch   9 Batch  200/538 - Train Accuracy: 0.7301, Validation Accuracy: 0.7065, Loss: 0.4278\n",
      "Epoch   9 Batch  300/538 - Train Accuracy: 0.7260, Validation Accuracy: 0.7017, Loss: 0.4230\n",
      "Epoch   9 Batch  400/538 - Train Accuracy: 0.7165, Validation Accuracy: 0.7013, Loss: 0.4146\n",
      "Epoch   9 Batch  500/538 - Train Accuracy: 0.7507, Validation Accuracy: 0.7163, Loss: 0.3903\n",
      "Epoch  10 Batch  100/538 - Train Accuracy: 0.7424, Validation Accuracy: 0.7118, Loss: 0.4034\n",
      "Epoch  10 Batch  200/538 - Train Accuracy: 0.7406, Validation Accuracy: 0.7262, Loss: 0.4060\n",
      "Epoch  10 Batch  300/538 - Train Accuracy: 0.7476, Validation Accuracy: 0.7308, Loss: 0.3836\n",
      "Epoch  10 Batch  400/538 - Train Accuracy: 0.7405, Validation Accuracy: 0.7298, Loss: 0.3918\n",
      "Epoch  10 Batch  500/538 - Train Accuracy: 0.7768, Validation Accuracy: 0.7417, Loss: 0.3630\n",
      "Epoch  11 Batch  100/538 - Train Accuracy: 0.7496, Validation Accuracy: 0.7205, Loss: 0.3707\n",
      "Epoch  11 Batch  200/538 - Train Accuracy: 0.7494, Validation Accuracy: 0.7241, Loss: 0.3712\n",
      "Epoch  11 Batch  300/538 - Train Accuracy: 0.7506, Validation Accuracy: 0.7440, Loss: 0.3648\n",
      "Epoch  11 Batch  400/538 - Train Accuracy: 0.7712, Validation Accuracy: 0.7393, Loss: 0.3594\n",
      "Epoch  11 Batch  500/538 - Train Accuracy: 0.7953, Validation Accuracy: 0.7337, Loss: 0.3330\n",
      "Epoch  12 Batch  100/538 - Train Accuracy: 0.7832, Validation Accuracy: 0.7536, Loss: 0.3452\n",
      "Epoch  12 Batch  200/538 - Train Accuracy: 0.7725, Validation Accuracy: 0.7718, Loss: 0.3495\n",
      "Epoch  12 Batch  300/538 - Train Accuracy: 0.7619, Validation Accuracy: 0.7638, Loss: 0.3454\n",
      "Epoch  12 Batch  400/538 - Train Accuracy: 0.7922, Validation Accuracy: 0.7784, Loss: 0.3484\n",
      "Epoch  12 Batch  500/538 - Train Accuracy: 0.8208, Validation Accuracy: 0.7686, Loss: 0.3153\n",
      "Epoch  13 Batch  100/538 - Train Accuracy: 0.7926, Validation Accuracy: 0.7765, Loss: 0.3212\n",
      "Epoch  13 Batch  200/538 - Train Accuracy: 0.7979, Validation Accuracy: 0.8006, Loss: 0.3292\n",
      "Epoch  13 Batch  300/538 - Train Accuracy: 0.7816, Validation Accuracy: 0.8042, Loss: 0.3314\n",
      "Epoch  13 Batch  400/538 - Train Accuracy: 0.8123, Validation Accuracy: 0.7979, Loss: 0.3338\n",
      "Epoch  13 Batch  500/538 - Train Accuracy: 0.8356, Validation Accuracy: 0.8047, Loss: 0.2826\n",
      "Epoch  14 Batch  100/538 - Train Accuracy: 0.8176, Validation Accuracy: 0.8081, Loss: 0.3047\n",
      "Epoch  14 Batch  200/538 - Train Accuracy: 0.8223, Validation Accuracy: 0.8091, Loss: 0.3085\n",
      "Epoch  14 Batch  300/538 - Train Accuracy: 0.8136, Validation Accuracy: 0.8002, Loss: 0.3035\n",
      "Epoch  14 Batch  400/538 - Train Accuracy: 0.8216, Validation Accuracy: 0.8166, Loss: 0.3019\n",
      "Epoch  14 Batch  500/538 - Train Accuracy: 0.8459, Validation Accuracy: 0.8125, Loss: 0.2660\n",
      "Epoch  15 Batch  100/538 - Train Accuracy: 0.8414, Validation Accuracy: 0.8205, Loss: 0.2854\n",
      "Epoch  15 Batch  200/538 - Train Accuracy: 0.8303, Validation Accuracy: 0.8132, Loss: 0.2771\n",
      "Epoch  15 Batch  300/538 - Train Accuracy: 0.8231, Validation Accuracy: 0.8198, Loss: 0.2933\n",
      "Epoch  15 Batch  400/538 - Train Accuracy: 0.8231, Validation Accuracy: 0.8143, Loss: 0.2855\n",
      "Epoch  15 Batch  500/538 - Train Accuracy: 0.8564, Validation Accuracy: 0.8251, Loss: 0.2505\n",
      "Epoch  16 Batch  100/538 - Train Accuracy: 0.8574, Validation Accuracy: 0.8327, Loss: 0.2657\n",
      "Epoch  16 Batch  200/538 - Train Accuracy: 0.8369, Validation Accuracy: 0.8306, Loss: 0.2669\n",
      "Epoch  16 Batch  300/538 - Train Accuracy: 0.8307, Validation Accuracy: 0.8255, Loss: 0.2656\n",
      "Epoch  16 Batch  400/538 - Train Accuracy: 0.8508, Validation Accuracy: 0.8384, Loss: 0.2716\n",
      "Epoch  16 Batch  500/538 - Train Accuracy: 0.8768, Validation Accuracy: 0.8244, Loss: 0.2407\n",
      "Epoch  17 Batch  100/538 - Train Accuracy: 0.8721, Validation Accuracy: 0.8311, Loss: 0.2360\n",
      "Epoch  17 Batch  200/538 - Train Accuracy: 0.8467, Validation Accuracy: 0.8340, Loss: 0.2541\n",
      "Epoch  17 Batch  300/538 - Train Accuracy: 0.8467, Validation Accuracy: 0.8404, Loss: 0.2468\n",
      "Epoch  17 Batch  400/538 - Train Accuracy: 0.8584, Validation Accuracy: 0.8452, Loss: 0.2510\n"
     ]
    },
    {
     "name": "stdout",
     "output_type": "stream",
     "text": [
      "Epoch  17 Batch  500/538 - Train Accuracy: 0.8819, Validation Accuracy: 0.8409, Loss: 0.2126\n",
      "Epoch  18 Batch  100/538 - Train Accuracy: 0.8709, Validation Accuracy: 0.8381, Loss: 0.2236\n",
      "Epoch  18 Batch  200/538 - Train Accuracy: 0.8633, Validation Accuracy: 0.8429, Loss: 0.2327\n",
      "Epoch  18 Batch  300/538 - Train Accuracy: 0.8538, Validation Accuracy: 0.8450, Loss: 0.2284\n",
      "Epoch  18 Batch  400/538 - Train Accuracy: 0.8657, Validation Accuracy: 0.8482, Loss: 0.2433\n",
      "Epoch  18 Batch  500/538 - Train Accuracy: 0.8894, Validation Accuracy: 0.8498, Loss: 0.1945\n",
      "Epoch  19 Batch  100/538 - Train Accuracy: 0.8840, Validation Accuracy: 0.8489, Loss: 0.2117\n",
      "Epoch  19 Batch  200/538 - Train Accuracy: 0.8715, Validation Accuracy: 0.8540, Loss: 0.2189\n",
      "Epoch  19 Batch  300/538 - Train Accuracy: 0.8566, Validation Accuracy: 0.8493, Loss: 0.2153\n",
      "Epoch  19 Batch  400/538 - Train Accuracy: 0.8813, Validation Accuracy: 0.8567, Loss: 0.2180\n",
      "Epoch  19 Batch  500/538 - Train Accuracy: 0.8917, Validation Accuracy: 0.8638, Loss: 0.1915\n",
      "Epoch  20 Batch  100/538 - Train Accuracy: 0.8791, Validation Accuracy: 0.8599, Loss: 0.1975\n",
      "Epoch  20 Batch  200/538 - Train Accuracy: 0.8680, Validation Accuracy: 0.8690, Loss: 0.2087\n",
      "Epoch  20 Batch  300/538 - Train Accuracy: 0.8529, Validation Accuracy: 0.8736, Loss: 0.2075\n",
      "Epoch  20 Batch  400/538 - Train Accuracy: 0.8789, Validation Accuracy: 0.8578, Loss: 0.2049\n",
      "Epoch  20 Batch  500/538 - Train Accuracy: 0.9013, Validation Accuracy: 0.8814, Loss: 0.1766\n",
      "Epoch  21 Batch  100/538 - Train Accuracy: 0.8906, Validation Accuracy: 0.8622, Loss: 0.1883\n",
      "Epoch  21 Batch  200/538 - Train Accuracy: 0.8754, Validation Accuracy: 0.8640, Loss: 0.1964\n",
      "Epoch  21 Batch  300/538 - Train Accuracy: 0.8720, Validation Accuracy: 0.8620, Loss: 0.2028\n",
      "Epoch  21 Batch  400/538 - Train Accuracy: 0.8884, Validation Accuracy: 0.8665, Loss: 0.2060\n",
      "Epoch  21 Batch  500/538 - Train Accuracy: 0.9080, Validation Accuracy: 0.8741, Loss: 0.1829\n",
      "Epoch  22 Batch  100/538 - Train Accuracy: 0.8900, Validation Accuracy: 0.8736, Loss: 0.1757\n",
      "Epoch  22 Batch  200/538 - Train Accuracy: 0.8854, Validation Accuracy: 0.8825, Loss: 0.1820\n",
      "Epoch  22 Batch  300/538 - Train Accuracy: 0.8733, Validation Accuracy: 0.8816, Loss: 0.1921\n",
      "Epoch  22 Batch  400/538 - Train Accuracy: 0.8949, Validation Accuracy: 0.8782, Loss: 0.1852\n",
      "Epoch  22 Batch  500/538 - Train Accuracy: 0.9078, Validation Accuracy: 0.8832, Loss: 0.1615\n",
      "Epoch  23 Batch  100/538 - Train Accuracy: 0.8955, Validation Accuracy: 0.8860, Loss: 0.1559\n",
      "Epoch  23 Batch  200/538 - Train Accuracy: 0.8889, Validation Accuracy: 0.8862, Loss: 0.1773\n",
      "Epoch  23 Batch  300/538 - Train Accuracy: 0.8702, Validation Accuracy: 0.8736, Loss: 0.1822\n",
      "Epoch  23 Batch  400/538 - Train Accuracy: 0.8994, Validation Accuracy: 0.8922, Loss: 0.1802\n",
      "Epoch  23 Batch  500/538 - Train Accuracy: 0.9221, Validation Accuracy: 0.8874, Loss: 0.1520\n",
      "Epoch  24 Batch  100/538 - Train Accuracy: 0.9092, Validation Accuracy: 0.8929, Loss: 0.1549\n",
      "Epoch  24 Batch  200/538 - Train Accuracy: 0.8980, Validation Accuracy: 0.8995, Loss: 0.1660\n",
      "Epoch  24 Batch  300/538 - Train Accuracy: 0.8782, Validation Accuracy: 0.9055, Loss: 0.1691\n",
      "Epoch  24 Batch  400/538 - Train Accuracy: 0.8947, Validation Accuracy: 0.8995, Loss: 0.1783\n",
      "Epoch  24 Batch  500/538 - Train Accuracy: 0.9240, Validation Accuracy: 0.8920, Loss: 0.1351\n",
      "Epoch  25 Batch  100/538 - Train Accuracy: 0.9082, Validation Accuracy: 0.8883, Loss: 0.1441\n",
      "Epoch  25 Batch  200/538 - Train Accuracy: 0.9082, Validation Accuracy: 0.9015, Loss: 0.1515\n",
      "Epoch  25 Batch  300/538 - Train Accuracy: 0.8811, Validation Accuracy: 0.9094, Loss: 0.1601\n",
      "Epoch  25 Batch  400/538 - Train Accuracy: 0.9120, Validation Accuracy: 0.9025, Loss: 0.1643\n",
      "Epoch  25 Batch  500/538 - Train Accuracy: 0.9352, Validation Accuracy: 0.9087, Loss: 0.1394\n",
      "Epoch  26 Batch  100/538 - Train Accuracy: 0.9221, Validation Accuracy: 0.9025, Loss: 0.1405\n",
      "Epoch  26 Batch  200/538 - Train Accuracy: 0.9092, Validation Accuracy: 0.9059, Loss: 0.1585\n",
      "Epoch  26 Batch  300/538 - Train Accuracy: 0.9068, Validation Accuracy: 0.9077, Loss: 0.1628\n",
      "Epoch  26 Batch  400/538 - Train Accuracy: 0.9161, Validation Accuracy: 0.9146, Loss: 0.1540\n",
      "Epoch  26 Batch  500/538 - Train Accuracy: 0.9297, Validation Accuracy: 0.9038, Loss: 0.1329\n",
      "Epoch  27 Batch  100/538 - Train Accuracy: 0.9215, Validation Accuracy: 0.9164, Loss: 0.1443\n",
      "Epoch  27 Batch  200/538 - Train Accuracy: 0.9174, Validation Accuracy: 0.9039, Loss: 0.1468\n",
      "Epoch  27 Batch  300/538 - Train Accuracy: 0.8971, Validation Accuracy: 0.9165, Loss: 0.1501\n",
      "Epoch  27 Batch  400/538 - Train Accuracy: 0.9226, Validation Accuracy: 0.9105, Loss: 0.1477\n",
      "Epoch  27 Batch  500/538 - Train Accuracy: 0.9359, Validation Accuracy: 0.9105, Loss: 0.1249\n",
      "Epoch  28 Batch  100/538 - Train Accuracy: 0.9227, Validation Accuracy: 0.9134, Loss: 0.1390\n",
      "Epoch  28 Batch  200/538 - Train Accuracy: 0.9115, Validation Accuracy: 0.9123, Loss: 0.1361\n",
      "Epoch  28 Batch  300/538 - Train Accuracy: 0.8992, Validation Accuracy: 0.9141, Loss: 0.1530\n",
      "Epoch  28 Batch  400/538 - Train Accuracy: 0.9249, Validation Accuracy: 0.9162, Loss: 0.1440\n",
      "Epoch  28 Batch  500/538 - Train Accuracy: 0.9419, Validation Accuracy: 0.9206, Loss: 0.1191\n",
      "Epoch  29 Batch  100/538 - Train Accuracy: 0.9283, Validation Accuracy: 0.9190, Loss: 0.1368\n",
      "Epoch  29 Batch  200/538 - Train Accuracy: 0.9248, Validation Accuracy: 0.9165, Loss: 0.1307\n",
      "Epoch  29 Batch  300/538 - Train Accuracy: 0.9027, Validation Accuracy: 0.9146, Loss: 0.1460\n",
      "Epoch  29 Batch  400/538 - Train Accuracy: 0.9321, Validation Accuracy: 0.9107, Loss: 0.1436\n",
      "Epoch  29 Batch  500/538 - Train Accuracy: 0.9389, Validation Accuracy: 0.9203, Loss: 0.1183\n",
      "Epoch  30 Batch  100/538 - Train Accuracy: 0.9279, Validation Accuracy: 0.9151, Loss: 0.1246\n",
      "Epoch  30 Batch  200/538 - Train Accuracy: 0.9211, Validation Accuracy: 0.9237, Loss: 0.1357\n",
      "Epoch  30 Batch  300/538 - Train Accuracy: 0.9061, Validation Accuracy: 0.9134, Loss: 0.1332\n",
      "Epoch  30 Batch  400/538 - Train Accuracy: 0.9276, Validation Accuracy: 0.9150, Loss: 0.1424\n",
      "Epoch  30 Batch  500/538 - Train Accuracy: 0.9375, Validation Accuracy: 0.9292, Loss: 0.1184\n",
      "Epoch  31 Batch  100/538 - Train Accuracy: 0.9336, Validation Accuracy: 0.9194, Loss: 0.1205\n",
      "Epoch  31 Batch  200/538 - Train Accuracy: 0.9258, Validation Accuracy: 0.9237, Loss: 0.1224\n",
      "Epoch  31 Batch  300/538 - Train Accuracy: 0.8997, Validation Accuracy: 0.9167, Loss: 0.1382\n",
      "Epoch  31 Batch  400/538 - Train Accuracy: 0.9321, Validation Accuracy: 0.9279, Loss: 0.1448\n",
      "Epoch  31 Batch  500/538 - Train Accuracy: 0.9348, Validation Accuracy: 0.9277, Loss: 0.1141\n",
      "Epoch  32 Batch  100/538 - Train Accuracy: 0.9318, Validation Accuracy: 0.9150, Loss: 0.1155\n",
      "Epoch  32 Batch  200/538 - Train Accuracy: 0.9230, Validation Accuracy: 0.9181, Loss: 0.1151\n",
      "Epoch  32 Batch  300/538 - Train Accuracy: 0.9204, Validation Accuracy: 0.9165, Loss: 0.1411\n",
      "Epoch  32 Batch  400/538 - Train Accuracy: 0.9263, Validation Accuracy: 0.9249, Loss: 0.1284\n",
      "Epoch  32 Batch  500/538 - Train Accuracy: 0.9464, Validation Accuracy: 0.9203, Loss: 0.1081\n",
      "Epoch  33 Batch  100/538 - Train Accuracy: 0.9375, Validation Accuracy: 0.9228, Loss: 0.1207\n",
      "Epoch  33 Batch  200/538 - Train Accuracy: 0.9305, Validation Accuracy: 0.9222, Loss: 0.1181\n",
      "Epoch  33 Batch  300/538 - Train Accuracy: 0.9187, Validation Accuracy: 0.9185, Loss: 0.1257\n",
      "Epoch  33 Batch  400/538 - Train Accuracy: 0.9319, Validation Accuracy: 0.9213, Loss: 0.1301\n",
      "Epoch  33 Batch  500/538 - Train Accuracy: 0.9529, Validation Accuracy: 0.9348, Loss: 0.1034\n",
      "Epoch  34 Batch  100/538 - Train Accuracy: 0.9402, Validation Accuracy: 0.9263, Loss: 0.1198\n",
      "Epoch  34 Batch  200/538 - Train Accuracy: 0.9348, Validation Accuracy: 0.9292, Loss: 0.1156\n",
      "Epoch  34 Batch  300/538 - Train Accuracy: 0.9204, Validation Accuracy: 0.9165, Loss: 0.1285\n",
      "Epoch  34 Batch  400/538 - Train Accuracy: 0.9295, Validation Accuracy: 0.9240, Loss: 0.1276\n",
      "Epoch  34 Batch  500/538 - Train Accuracy: 0.9533, Validation Accuracy: 0.9231, Loss: 0.1003\n",
      "Model Trained and Saved\n"
     ]
    }
   ],
   "source": [
    "\"\"\"\n",
    "DON'T MODIFY ANYTHING IN THIS CELL\n",
    "\"\"\"\n",
    "def get_accuracy(target, logits):\n",
    "    \"\"\"\n",
    "    Calculate accuracy\n",
    "    \"\"\"\n",
    "    max_seq = max(target.shape[1], logits.shape[1])\n",
    "    if max_seq - target.shape[1]:\n",
    "        target = np.pad(\n",
    "            target,\n",
    "            [(0,0),(0,max_seq - target.shape[1])],\n",
    "            'constant')\n",
    "    if max_seq - logits.shape[1]:\n",
    "        logits = np.pad(\n",
    "            logits,\n",
    "            [(0,0),(0,max_seq - logits.shape[1])],\n",
    "            'constant')\n",
    "\n",
    "    return np.mean(np.equal(target, logits))\n",
    "\n",
    "# Split data to training and validation sets\n",
    "train_source = source_int_text[batch_size:]\n",
    "train_target = target_int_text[batch_size:]\n",
    "valid_source = source_int_text[:batch_size]\n",
    "valid_target = target_int_text[:batch_size]\n",
    "(valid_sources_batch, valid_targets_batch, valid_sources_lengths, valid_targets_lengths ) = next(get_batches(valid_source,\n",
    "                                                                                                             valid_target,\n",
    "                                                                                                             batch_size,\n",
    "                                                                                                             source_vocab_to_int['<PAD>'],\n",
    "                                                                                                             target_vocab_to_int['<PAD>']))                                                                                                  \n",
    "with tf.Session(graph=train_graph) as sess:\n",
    "    sess.run(tf.global_variables_initializer())\n",
    "\n",
    "    for epoch_i in range(epochs):\n",
    "        for batch_i, (source_batch, target_batch, sources_lengths, targets_lengths) in enumerate(\n",
    "                get_batches(train_source, train_target, batch_size,\n",
    "                            source_vocab_to_int['<PAD>'],\n",
    "                            target_vocab_to_int['<PAD>'])):\n",
    "\n",
    "            _, loss = sess.run(\n",
    "                [train_op, cost],\n",
    "                {input_data: source_batch,\n",
    "                 targets: target_batch,\n",
    "                 lr: learning_rate,\n",
    "                 target_sequence_length: targets_lengths,\n",
    "                 source_sequence_length: sources_lengths,\n",
    "                 keep_prob: keep_probability})\n",
    "\n",
    "\n",
    "            if batch_i % display_step == 0 and batch_i > 0:\n",
    "\n",
    "\n",
    "                batch_train_logits = sess.run(\n",
    "                    inference_logits,\n",
    "                    {input_data: source_batch,\n",
    "                     source_sequence_length: sources_lengths,\n",
    "                     target_sequence_length: targets_lengths,\n",
    "                     keep_prob: 1.0})\n",
    "\n",
    "\n",
    "                batch_valid_logits = sess.run(\n",
    "                    inference_logits,\n",
    "                    {input_data: valid_sources_batch,\n",
    "                     source_sequence_length: valid_sources_lengths,\n",
    "                     target_sequence_length: valid_targets_lengths,\n",
    "                     keep_prob: 1.0})\n",
    "\n",
    "                train_acc = get_accuracy(target_batch, batch_train_logits)\n",
    "\n",
    "                valid_acc = get_accuracy(valid_targets_batch, batch_valid_logits)\n",
    "\n",
    "                print('Epoch {:>3} Batch {:>4}/{} - Train Accuracy: {:>6.4f}, Validation Accuracy: {:>6.4f}, Loss: {:>6.4f}'\n",
    "                      .format(epoch_i, batch_i, len(source_int_text) // batch_size, train_acc, valid_acc, loss))\n",
    "\n",
    "    # Save Model\n",
    "    saver = tf.train.Saver()\n",
    "    saver.save(sess, save_path)\n",
    "    print('Model Trained and Saved')"
   ]
  },
  {
   "cell_type": "markdown",
   "metadata": {},
   "source": [
    "### Save Parameters\n",
    "Save the `batch_size` and `save_path` parameters for inference."
   ]
  },
  {
   "cell_type": "code",
   "execution_count": 14,
   "metadata": {
    "collapsed": true
   },
   "outputs": [],
   "source": [
    "\"\"\"\n",
    "DON'T MODIFY ANYTHING IN THIS CELL\n",
    "\"\"\"\n",
    "# Save parameters for checkpoint\n",
    "helper.save_params(save_path)"
   ]
  },
  {
   "cell_type": "markdown",
   "metadata": {},
   "source": [
    "# Checkpoint"
   ]
  },
  {
   "cell_type": "code",
   "execution_count": 15,
   "metadata": {
    "collapsed": true
   },
   "outputs": [],
   "source": [
    "\"\"\"\n",
    "DON'T MODIFY ANYTHING IN THIS CELL\n",
    "\"\"\"\n",
    "import tensorflow as tf\n",
    "import numpy as np\n",
    "import helper\n",
    "import problem_unittests as tests\n",
    "\n",
    "_, (source_vocab_to_int, target_vocab_to_int), (source_int_to_vocab, target_int_to_vocab) = helper.load_preprocess()\n",
    "load_path = helper.load_params()"
   ]
  },
  {
   "cell_type": "markdown",
   "metadata": {},
   "source": [
    "## Sentence to Sequence\n",
    "To feed a sentence into the model for translation, you first need to preprocess it.  Implement the function `sentence_to_seq()` to preprocess new sentences.\n",
    "\n",
    "- Convert the sentence to lowercase\n",
    "- Convert words into ids using `vocab_to_int`\n",
    " - Convert words not in the vocabulary, to the `<UNK>` word id."
   ]
  },
  {
   "cell_type": "code",
   "execution_count": 17,
   "metadata": {},
   "outputs": [
    {
     "name": "stdout",
     "output_type": "stream",
     "text": [
      "Tests Passed\n"
     ]
    }
   ],
   "source": [
    "def sentence_to_seq(sentence, vocab_to_int):\n",
    "    \"\"\"\n",
    "    Convert a sentence to a sequence of ids\n",
    "    :param sentence: String\n",
    "    :param vocab_to_int: Dictionary to go from the words to an id\n",
    "    :return: List of word ids\n",
    "    \"\"\"\n",
    "    ids = []\n",
    "    for word in sentence.lower().split():\n",
    "        if word in vocab_to_int:\n",
    "            ids.append(vocab_to_int[word])\n",
    "        else:\n",
    "            ids.append(vocab_to_int[\"<UNK>\"])\n",
    "\n",
    "    return ids\n",
    "\n",
    "\n",
    "\"\"\"\n",
    "DON'T MODIFY ANYTHING IN THIS CELL THAT IS BELOW THIS LINE\n",
    "\"\"\"\n",
    "tests.test_sentence_to_seq(sentence_to_seq)"
   ]
  },
  {
   "cell_type": "markdown",
   "metadata": {},
   "source": [
    "## Translate\n",
    "This will translate `translate_sentence` from English to French."
   ]
  },
  {
   "cell_type": "code",
   "execution_count": 21,
   "metadata": {},
   "outputs": [
    {
     "name": "stdout",
     "output_type": "stream",
     "text": [
      "INFO:tensorflow:Restoring parameters from checkpoints/dev\n",
      "Input\n",
      "  Word Ids:      [119, 67, 76, 218, 176, 70, 86]\n",
      "  English Words: ['he', 'saw', 'a', 'old', 'yellow', 'truck', '.']\n",
      "\n",
      "Prediction\n",
      "  Word Ids:      [202, 64, 236, 96, 124, 205, 205, 53, 212, 1]\n",
      "  French Words: il aime pas au gros en en verts . <EOS>\n"
     ]
    }
   ],
   "source": [
    "translate_sentence = 'he saw a old yellow truck .'\n",
    "\n",
    "\n",
    "\"\"\"\n",
    "DON'T MODIFY ANYTHING IN THIS CELL\n",
    "\"\"\"\n",
    "translate_sentence = sentence_to_seq(translate_sentence, source_vocab_to_int)\n",
    "\n",
    "loaded_graph = tf.Graph()\n",
    "with tf.Session(graph=loaded_graph) as sess:\n",
    "    # Load saved model\n",
    "    loader = tf.train.import_meta_graph(load_path + '.meta')\n",
    "    loader.restore(sess, load_path)\n",
    "\n",
    "    input_data = loaded_graph.get_tensor_by_name('input:0')\n",
    "    logits = loaded_graph.get_tensor_by_name('predictions:0')\n",
    "    target_sequence_length = loaded_graph.get_tensor_by_name('target_sequence_length:0')\n",
    "    source_sequence_length = loaded_graph.get_tensor_by_name('source_sequence_length:0')\n",
    "    keep_prob = loaded_graph.get_tensor_by_name('keep_prob:0')\n",
    "\n",
    "    translate_logits = sess.run(logits, {input_data: [translate_sentence]*batch_size,\n",
    "                                         target_sequence_length: [len(translate_sentence)*2]*batch_size,\n",
    "                                         source_sequence_length: [len(translate_sentence)]*batch_size,\n",
    "                                         keep_prob: 1.0})[0]\n",
    "\n",
    "print('Input')\n",
    "print('  Word Ids:      {}'.format([i for i in translate_sentence]))\n",
    "print('  English Words: {}'.format([source_int_to_vocab[i] for i in translate_sentence]))\n",
    "\n",
    "print('\\nPrediction')\n",
    "print('  Word Ids:      {}'.format([i for i in translate_logits]))\n",
    "print('  French Words: {}'.format(\" \".join([target_int_to_vocab[i] for i in translate_logits])))\n"
   ]
  },
  {
   "cell_type": "markdown",
   "metadata": {},
   "source": [
    "## Imperfect Translation\n",
    "You might notice that some sentences translate better than others.  Since the dataset you're using only has a vocabulary of 227 English words of the thousands that you use, you're only going to see good results using these words.  For this project, you don't need a perfect translation. However, if you want to create a better translation model, you'll need better data.\n",
    "\n",
    "You can train on the [WMT10 French-English corpus](http://www.statmt.org/wmt10/training-giga-fren.tar).  This dataset has more vocabulary and richer in topics discussed.  However, this will take you days to train, so make sure you've a GPU and the neural network is performing well on dataset we provided.  Just make sure you play with the WMT10 corpus after you've submitted this project.\n",
    "## Submitting This Project\n",
    "When submitting this project, make sure to run all the cells before saving the notebook. Save the notebook file as \"dlnd_language_translation.ipynb\" and save it as a HTML file under \"File\" -> \"Download as\". Include the \"helper.py\" and \"problem_unittests.py\" files in your submission."
   ]
  }
 ],
 "metadata": {
  "anaconda-cloud": {},
  "kernelspec": {
   "display_name": "Python 3",
   "language": "python",
   "name": "python3"
  },
  "language_info": {
   "codemirror_mode": {
    "name": "ipython",
    "version": 3
   },
   "file_extension": ".py",
   "mimetype": "text/x-python",
   "name": "python",
   "nbconvert_exporter": "python",
   "pygments_lexer": "ipython3",
   "version": "3.6.2"
  },
  "widgets": {
   "state": {},
   "version": "1.1.2"
  }
 },
 "nbformat": 4,
 "nbformat_minor": 1
}
