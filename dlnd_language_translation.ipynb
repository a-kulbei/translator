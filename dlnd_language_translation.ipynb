{
 "cells": [
  {
   "cell_type": "markdown",
   "metadata": {
    "collapsed": true
   },
   "source": [
    "# Language Translation\n",
    "In this project, you’re going to take a peek into the realm of neural network machine translation.  You’ll be training a sequence to sequence model on a dataset of English and French sentences that can translate new sentences from English to French.\n",
    "## Get the Data\n",
    "Since translating the whole language of English to French will take lots of time to train, we have provided you with a small portion of the English corpus."
   ]
  },
  {
   "cell_type": "code",
   "execution_count": 1,
   "metadata": {
    "collapsed": true
   },
   "outputs": [],
   "source": [
    "\"\"\"\n",
    "DON'T MODIFY ANYTHING IN THIS CELL\n",
    "\"\"\"\n",
    "import helper\n",
    "import problem_unittests as tests\n",
    "\n",
    "source_path = 'data/small_vocab_en'\n",
    "target_path = 'data/small_vocab_fr'\n",
    "source_text = helper.load_data(source_path)\n",
    "target_text = helper.load_data(target_path)"
   ]
  },
  {
   "cell_type": "markdown",
   "metadata": {},
   "source": [
    "## Explore the Data\n",
    "Play around with view_sentence_range to view different parts of the data."
   ]
  },
  {
   "cell_type": "code",
   "execution_count": 2,
   "metadata": {},
   "outputs": [
    {
     "name": "stdout",
     "output_type": "stream",
     "text": [
      "Dataset Stats\n",
      "Roughly the number of unique words: 227\n",
      "Number of sentences: 137861\n",
      "Average number of words in a sentence: 13.225277634719028\n",
      "\n",
      "English sentences 0 to 10:\n",
      "new jersey is sometimes quiet during autumn , and it is snowy in april .\n",
      "the united states is usually chilly during july , and it is usually freezing in november .\n",
      "california is usually quiet during march , and it is usually hot in june .\n",
      "the united states is sometimes mild during june , and it is cold in september .\n",
      "your least liked fruit is the grape , but my least liked is the apple .\n",
      "his favorite fruit is the orange , but my favorite is the grape .\n",
      "paris is relaxing during december , but it is usually chilly in july .\n",
      "new jersey is busy during spring , and it is never hot in march .\n",
      "our least liked fruit is the lemon , but my least liked is the grape .\n",
      "the united states is sometimes busy during january , and it is sometimes warm in november .\n",
      "\n",
      "French sentences 0 to 10:\n",
      "new jersey est parfois calme pendant l' automne , et il est neigeux en avril .\n",
      "les états-unis est généralement froid en juillet , et il gèle habituellement en novembre .\n",
      "california est généralement calme en mars , et il est généralement chaud en juin .\n",
      "les états-unis est parfois légère en juin , et il fait froid en septembre .\n",
      "votre moins aimé fruit est le raisin , mais mon moins aimé est la pomme .\n",
      "son fruit préféré est l'orange , mais mon préféré est le raisin .\n",
      "paris est relaxant en décembre , mais il est généralement froid en juillet .\n",
      "new jersey est occupé au printemps , et il est jamais chaude en mars .\n",
      "notre fruit est moins aimé le citron , mais mon moins aimé est le raisin .\n",
      "les états-unis est parfois occupé en janvier , et il est parfois chaud en novembre .\n"
     ]
    }
   ],
   "source": [
    "view_sentence_range = (0, 10)\n",
    "\n",
    "\"\"\"\n",
    "DON'T MODIFY ANYTHING IN THIS CELL\n",
    "\"\"\"\n",
    "import numpy as np\n",
    "\n",
    "print('Dataset Stats')\n",
    "print('Roughly the number of unique words: {}'.format(len({word: None for word in source_text.split()})))\n",
    "\n",
    "sentences = source_text.split('\\n')\n",
    "word_counts = [len(sentence.split()) for sentence in sentences]\n",
    "print('Number of sentences: {}'.format(len(sentences)))\n",
    "print('Average number of words in a sentence: {}'.format(np.average(word_counts)))\n",
    "\n",
    "print()\n",
    "print('English sentences {} to {}:'.format(*view_sentence_range))\n",
    "print('\\n'.join(source_text.split('\\n')[view_sentence_range[0]:view_sentence_range[1]]))\n",
    "print()\n",
    "print('French sentences {} to {}:'.format(*view_sentence_range))\n",
    "print('\\n'.join(target_text.split('\\n')[view_sentence_range[0]:view_sentence_range[1]]))"
   ]
  },
  {
   "cell_type": "markdown",
   "metadata": {},
   "source": [
    "## Implement Preprocessing Function\n",
    "### Text to Word Ids\n",
    "As you did with other RNNs, you must turn the text into a number so the computer can understand it. In the function `text_to_ids()`, you'll turn `source_text` and `target_text` from words to ids.  However, you need to add the `<EOS>` word id at the end of `target_text`.  This will help the neural network predict when the sentence should end.\n",
    "\n",
    "You can get the `<EOS>` word id by doing:\n",
    "```python\n",
    "target_vocab_to_int['<EOS>']\n",
    "```\n",
    "You can get other word ids using `source_vocab_to_int` and `target_vocab_to_int`."
   ]
  },
  {
   "cell_type": "code",
   "execution_count": 25,
   "metadata": {},
   "outputs": [
    {
     "name": "stdout",
     "output_type": "stream",
     "text": [
      "Tests Passed\n"
     ]
    }
   ],
   "source": [
    "def text_to_ids(source_text, target_text, source_vocab_to_int, target_vocab_to_int):\n",
    "    \"\"\"\n",
    "    Convert source and target text to proper word ids\n",
    "    :param source_text: String that contains all the source text.\n",
    "    :param target_text: String that contains all the target text.\n",
    "    :param source_vocab_to_int: Dictionary to go from the source words to an id\n",
    "    :param target_vocab_to_int: Dictionary to go from the target words to an id\n",
    "    :return: A tuple of lists (source_id_text, target_id_text)\n",
    "    \"\"\"\n",
    "    source_id_text = []\n",
    "    target_id_text = []\n",
    "    \n",
    "    for sentence in source_text.split('\\n'):\n",
    "        sentence_id = []\n",
    "        for word in sentence.split():\n",
    "            sentence_id.append(source_vocab_to_int[word])\n",
    "        source_id_text.append(sentence_id)\n",
    "            \n",
    "    for sentence in target_text.split('\\n'):\n",
    "        sentence_id = []\n",
    "        for word in sentence.split():\n",
    "            sentence_id.append(target_vocab_to_int[word])        \n",
    "        sentence_id.append(target_vocab_to_int['<EOS>'])\n",
    "        target_id_text.append(sentence_id)\n",
    "\n",
    "    return source_id_text, target_id_text\n",
    "\n",
    "\"\"\"\n",
    "DON'T MODIFY ANYTHING IN THIS CELL THAT IS BELOW THIS LINE\n",
    "\"\"\"\n",
    "tests.test_text_to_ids(text_to_ids)"
   ]
  },
  {
   "cell_type": "markdown",
   "metadata": {},
   "source": [
    "### Preprocess all the data and save it\n",
    "Running the code cell below will preprocess all the data and save it to file."
   ]
  },
  {
   "cell_type": "code",
   "execution_count": 26,
   "metadata": {
    "collapsed": true
   },
   "outputs": [],
   "source": [
    "\"\"\"\n",
    "DON'T MODIFY ANYTHING IN THIS CELL\n",
    "\"\"\"\n",
    "helper.preprocess_and_save_data(source_path, target_path, text_to_ids)"
   ]
  },
  {
   "cell_type": "markdown",
   "metadata": {},
   "source": [
    "# Check Point\n",
    "This is your first checkpoint. If you ever decide to come back to this notebook or have to restart the notebook, you can start from here. The preprocessed data has been saved to disk."
   ]
  },
  {
   "cell_type": "code",
   "execution_count": 27,
   "metadata": {
    "collapsed": true
   },
   "outputs": [],
   "source": [
    "\"\"\"\n",
    "DON'T MODIFY ANYTHING IN THIS CELL\n",
    "\"\"\"\n",
    "import numpy as np\n",
    "import helper\n",
    "import problem_unittests as tests\n",
    "\n",
    "(source_int_text, target_int_text), (source_vocab_to_int, target_vocab_to_int), _ = helper.load_preprocess()"
   ]
  },
  {
   "cell_type": "markdown",
   "metadata": {},
   "source": [
    "### Check the Version of TensorFlow and Access to GPU\n",
    "This will check to make sure you have the correct version of TensorFlow and access to a GPU"
   ]
  },
  {
   "cell_type": "code",
   "execution_count": 28,
   "metadata": {},
   "outputs": [
    {
     "name": "stdout",
     "output_type": "stream",
     "text": [
      "TensorFlow Version: 1.1.0\n"
     ]
    },
    {
     "name": "stderr",
     "output_type": "stream",
     "text": [
      "/Users/akulbei/anaconda/envs/translator/lib/python3.6/site-packages/ipykernel_launcher.py:15: UserWarning: No GPU found. Please use a GPU to train your neural network.\n",
      "  from ipykernel import kernelapp as app\n"
     ]
    }
   ],
   "source": [
    "\"\"\"\n",
    "DON'T MODIFY ANYTHING IN THIS CELL\n",
    "\"\"\"\n",
    "from distutils.version import LooseVersion\n",
    "import warnings\n",
    "import tensorflow as tf\n",
    "from tensorflow.python.layers.core import Dense\n",
    "\n",
    "# Check TensorFlow Version\n",
    "assert LooseVersion(tf.__version__) >= LooseVersion('1.1'), 'Please use TensorFlow version 1.1 or newer'\n",
    "print('TensorFlow Version: {}'.format(tf.__version__))\n",
    "\n",
    "# Check for a GPU\n",
    "if not tf.test.gpu_device_name():\n",
    "    warnings.warn('No GPU found. Please use a GPU to train your neural network.')\n",
    "else:\n",
    "    print('Default GPU Device: {}'.format(tf.test.gpu_device_name()))"
   ]
  },
  {
   "cell_type": "markdown",
   "metadata": {},
   "source": [
    "## Build the Neural Network\n",
    "You'll build the components necessary to build a Sequence-to-Sequence model by implementing the following functions below:\n",
    "- `model_inputs`\n",
    "- `process_decoder_input`\n",
    "- `encoding_layer`\n",
    "- `decoding_layer_train`\n",
    "- `decoding_layer_infer`\n",
    "- `decoding_layer`\n",
    "- `seq2seq_model`\n",
    "\n",
    "### Input\n",
    "Implement the `model_inputs()` function to create TF Placeholders for the Neural Network. It should create the following placeholders:\n",
    "\n",
    "- Input text placeholder named \"input\" using the TF Placeholder name parameter with rank 2.\n",
    "- Targets placeholder with rank 2.\n",
    "- Learning rate placeholder with rank 0.\n",
    "- Keep probability placeholder named \"keep_prob\" using the TF Placeholder name parameter with rank 0.\n",
    "- Target sequence length placeholder named \"target_sequence_length\" with rank 1\n",
    "- Max target sequence length tensor named \"max_target_len\" getting its value from applying tf.reduce_max on the target_sequence_length placeholder. Rank 0.\n",
    "- Source sequence length placeholder named \"source_sequence_length\" with rank 1\n",
    "\n",
    "Return the placeholders in the following the tuple (input, targets, learning rate, keep probability, target sequence length, max target sequence length, source sequence length)"
   ]
  },
  {
   "cell_type": "code",
   "execution_count": 31,
   "metadata": {},
   "outputs": [
    {
     "name": "stdout",
     "output_type": "stream",
     "text": [
      "Tests Passed\n"
     ]
    }
   ],
   "source": [
    "def model_inputs():\n",
    "    \"\"\"\n",
    "    Create TF Placeholders for input, targets, learning rate, and lengths of source and target sequences.\n",
    "    :return: Tuple (input, targets, learning rate, keep probability, target sequence length,\n",
    "    max target sequence length, source sequence length)\n",
    "    \"\"\"\n",
    "    # TODO: Implement Function\n",
    "    input_data = tf.placeholder(tf.int32, [None, None], name=\"input\")\n",
    "    target_data = tf.placeholder(tf.int32, [None, None], name=\"target\")\n",
    "    lr = tf.placeholder(tf.float32, name=\"learning_rate\")\n",
    "    keep_prob = tf.placeholder(tf.float32, name=\"keep_prob\")\n",
    "    target_seq_length = tf.placeholder(tf.int32, (None,), name=\"target_sequence_length\")\n",
    "    max_target_length = tf.reduce_max(target_seq_length, name='max_target_len')\n",
    "    source_seq_length = tf.placeholder(tf.int32, (None,), name=\"source_sequence_length\")\n",
    "\n",
    "    return input_data, target_data, lr, keep_prob, target_seq_length, max_target_length, source_seq_length\n",
    "\n",
    "\n",
    "\"\"\"\n",
    "DON'T MODIFY ANYTHING IN THIS CELL THAT IS BELOW THIS LINE\n",
    "\"\"\"\n",
    "tests.test_model_inputs(model_inputs)"
   ]
  },
  {
   "cell_type": "markdown",
   "metadata": {},
   "source": [
    "### Process Decoder Input\n",
    "Implement `process_decoder_input` by removing the last word id from each batch in `target_data` and concat the GO ID to the begining of each batch."
   ]
  },
  {
   "cell_type": "code",
   "execution_count": 33,
   "metadata": {},
   "outputs": [
    {
     "name": "stdout",
     "output_type": "stream",
     "text": [
      "Tests Passed\n"
     ]
    }
   ],
   "source": [
    "def process_decoder_input(target_data, target_vocab_to_int, batch_size):\n",
    "    \"\"\"\n",
    "    Preprocess target data for encoding\n",
    "    :param target_data: Target Placehoder\n",
    "    :param target_vocab_to_int: Dictionary to go from the target words to an id\n",
    "    :param batch_size: Batch Size\n",
    "    :return: Preprocessed target data\n",
    "    \"\"\"\n",
    "    # TODO: Implement Function\n",
    "    ending = tf.strided_slice(target_data, [0, 0], [batch_size, -1], [1, 1])\n",
    "    decoder_input = tf.concat([tf.fill([batch_size, 1], target_vocab_to_int['<GO>']), ending], 1)\n",
    "    return decoder_input\n",
    "\n",
    "\"\"\"\n",
    "DON'T MODIFY ANYTHING IN THIS CELL THAT IS BELOW THIS LINE\n",
    "\"\"\"\n",
    "tests.test_process_encoding_input(process_decoder_input)"
   ]
  },
  {
   "cell_type": "markdown",
   "metadata": {},
   "source": [
    "### Encoding\n",
    "Implement `encoding_layer()` to create a Encoder RNN layer:\n",
    " * Embed the encoder input using [`tf.contrib.layers.embed_sequence`](https://www.tensorflow.org/api_docs/python/tf/contrib/layers/embed_sequence)\n",
    " * Construct a [stacked](https://github.com/tensorflow/tensorflow/blob/6947f65a374ebf29e74bb71e36fd82760056d82c/tensorflow/docs_src/tutorials/recurrent.md#stacking-multiple-lstms) [`tf.contrib.rnn.LSTMCell`](https://www.tensorflow.org/api_docs/python/tf/contrib/rnn/LSTMCell) wrapped in a [`tf.contrib.rnn.DropoutWrapper`](https://www.tensorflow.org/api_docs/python/tf/contrib/rnn/DropoutWrapper)\n",
    " * Pass cell and embedded input to [`tf.nn.dynamic_rnn()`](https://www.tensorflow.org/api_docs/python/tf/nn/dynamic_rnn)"
   ]
  },
  {
   "cell_type": "code",
   "execution_count": 34,
   "metadata": {
    "scrolled": false
   },
   "outputs": [
    {
     "name": "stdout",
     "output_type": "stream",
     "text": [
      "Tests Passed\n"
     ]
    }
   ],
   "source": [
    "from imp import reload\n",
    "reload(tests)\n",
    "\n",
    "def encoding_layer(rnn_inputs, rnn_size, num_layers, keep_prob, \n",
    "                   source_sequence_length, source_vocab_size, \n",
    "                   encoding_embedding_size):\n",
    "    \"\"\"\n",
    "    Create encoding layer\n",
    "    :param rnn_inputs: Inputs for the RNN\n",
    "    :param rnn_size: RNN Size\n",
    "    :param num_layers: Number of layers\n",
    "    :param keep_prob: Dropout keep probability\n",
    "    :param source_sequence_length: a list of the lengths of each sequence in the batch\n",
    "    :param source_vocab_size: vocabulary size of source data\n",
    "    :param encoding_embedding_size: embedding size of source data\n",
    "    :return: tuple (RNN output, RNN state)\n",
    "    \"\"\"\n",
    "    encod_embed_input = tf.contrib.layers.embed_sequence(rnn_inputs, source_vocab_size, encoding_embedding_size)\n",
    "    \n",
    "    # lstm cell\n",
    "    def lstm_cell(rnn_size):\n",
    "        cell = tf.contrib.rnn.LSTMCell(rnn_size, initializer=tf.random_uniform_initializer(-0.1, 0.1, seed=2))\n",
    "        cell = tf.contrib.rnn.DropoutWrapper(cell, output_keep_prob=keep_prob)\n",
    "        return cell\n",
    "    \n",
    "    encod_cell = tf.contrib.rnn.MultiRNNCell([lstm_cell(rnn_size) for _ in range(num_layers)])\n",
    "    encod_output, encod_state = tf.nn.dynamic_rnn(encod_cell,\n",
    "                                                  encod_embed_input,\n",
    "                                                  sequence_length=source_sequence_length,\n",
    "                                                  dtype=tf.float32)\n",
    "    \n",
    "    return encod_output, encod_state\n",
    "\n",
    "\"\"\"\n",
    "DON'T MODIFY ANYTHING IN THIS CELL THAT IS BELOW THIS LINE\n",
    "\"\"\"\n",
    "tests.test_encoding_layer(encoding_layer)"
   ]
  },
  {
   "cell_type": "markdown",
   "metadata": {},
   "source": [
    "### Decoding - Training\n",
    "Create a training decoding layer:\n",
    "* Create a [`tf.contrib.seq2seq.TrainingHelper`](https://www.tensorflow.org/api_docs/python/tf/contrib/seq2seq/TrainingHelper) \n",
    "* Create a [`tf.contrib.seq2seq.BasicDecoder`](https://www.tensorflow.org/api_docs/python/tf/contrib/seq2seq/BasicDecoder)\n",
    "* Obtain the decoder outputs from [`tf.contrib.seq2seq.dynamic_decode`](https://www.tensorflow.org/api_docs/python/tf/contrib/seq2seq/dynamic_decode)"
   ]
  },
  {
   "cell_type": "code",
   "execution_count": 35,
   "metadata": {},
   "outputs": [
    {
     "name": "stdout",
     "output_type": "stream",
     "text": [
      "Tests Passed\n"
     ]
    }
   ],
   "source": [
    "\n",
    "def decoding_layer_train(encoder_state, dec_cell, dec_embed_input, \n",
    "                         target_sequence_length, max_summary_length, \n",
    "                         output_layer, keep_prob):\n",
    "    \"\"\"\n",
    "    Create a decoding layer for training\n",
    "    :param encoder_state: Encoder State\n",
    "    :param dec_cell: Decoder RNN Cell\n",
    "    :param dec_embed_input: Decoder embedded input\n",
    "    :param target_sequence_length: The lengths of each sequence in the target batch\n",
    "    :param max_summary_length: The length of the longest sequence in the batch\n",
    "    :param output_layer: Function to apply the output layer\n",
    "    :param keep_prob: Dropout keep probability\n",
    "    :return: BasicDecoderOutput containing training logits and sample_id\n",
    "    \"\"\"\n",
    "    training_helper = tf.contrib.seq2seq.TrainingHelper(inputs=dec_embed_input,\n",
    "                                                        sequence_length=target_sequence_length,\n",
    "                                                        time_major=False)\n",
    "    \n",
    "    training_decoder = tf.contrib.seq2seq.BasicDecoder(dec_cell, training_helper, encoder_state, output_layer)\n",
    "    \n",
    "    training_decoder_output = tf.contrib.seq2seq.dynamic_decode(training_decoder,\n",
    "                                                                impute_finished=True,\n",
    "                                                                maximum_iterations=max_summary_length)[0]\n",
    "    return training_decoder_output\n",
    "\n",
    "\n",
    "\n",
    "\"\"\"\n",
    "DON'T MODIFY ANYTHING IN THIS CELL THAT IS BELOW THIS LINE\n",
    "\"\"\"\n",
    "tests.test_decoding_layer_train(decoding_layer_train)"
   ]
  },
  {
   "cell_type": "markdown",
   "metadata": {},
   "source": [
    "### Decoding - Inference\n",
    "Create inference decoder:\n",
    "* Create a [`tf.contrib.seq2seq.GreedyEmbeddingHelper`](https://www.tensorflow.org/api_docs/python/tf/contrib/seq2seq/GreedyEmbeddingHelper)\n",
    "* Create a [`tf.contrib.seq2seq.BasicDecoder`](https://www.tensorflow.org/api_docs/python/tf/contrib/seq2seq/BasicDecoder)\n",
    "* Obtain the decoder outputs from [`tf.contrib.seq2seq.dynamic_decode`](https://www.tensorflow.org/api_docs/python/tf/contrib/seq2seq/dynamic_decode)"
   ]
  },
  {
   "cell_type": "code",
   "execution_count": 37,
   "metadata": {
    "scrolled": true
   },
   "outputs": [
    {
     "name": "stdout",
     "output_type": "stream",
     "text": [
      "Tests Passed\n"
     ]
    }
   ],
   "source": [
    "def decoding_layer_infer(encoder_state, dec_cell, dec_embeddings, start_of_sequence_id,\n",
    "                         end_of_sequence_id, max_target_sequence_length,\n",
    "                         vocab_size, output_layer, batch_size, keep_prob):\n",
    "    \"\"\"\n",
    "    Create a decoding layer for inference\n",
    "    :param encoder_state: Encoder state\n",
    "    :param dec_cell: Decoder RNN Cell\n",
    "    :param dec_embeddings: Decoder embeddings\n",
    "    :param start_of_sequence_id: GO ID\n",
    "    :param end_of_sequence_id: EOS Id\n",
    "    :param max_target_sequence_length: Maximum length of target sequences\n",
    "    :param vocab_size: Size of decoder/target vocabulary\n",
    "    :param decoding_scope: TenorFlow Variable Scope for decoding\n",
    "    :param output_layer: Function to apply the output layer\n",
    "    :param batch_size: Batch size\n",
    "    :param keep_prob: Dropout keep probability\n",
    "    :return: BasicDecoderOutput containing inference logits and sample_id\n",
    "    \"\"\"\n",
    "    start_tokens = tf.tile(tf.constant([start_of_sequence_id], dtype=tf.int32), [batch_size], name=\"start_tokens\")\n",
    "    inference_helper = tf.contrib.seq2seq.GreedyEmbeddingHelper(dec_embeddings, start_tokens, end_of_sequence_id)\n",
    "    \n",
    "    inference_decoder = tf.contrib.seq2seq.BasicDecoder(dec_cell,\n",
    "                                                        inference_helper,\n",
    "                                                        encoder_state,\n",
    "                                                        output_layer)\n",
    "    \n",
    "    inference_decoder_output = tf.contrib.seq2seq.dynamic_decode(inference_decoder,\n",
    "                                                                 impute_finished=True,\n",
    "                                                                 maximum_iterations=max_target_sequence_length)[0]\n",
    "    return inference_decoder_output\n",
    "\n",
    "\n",
    "\n",
    "\"\"\"\n",
    "DON'T MODIFY ANYTHING IN THIS CELL THAT IS BELOW THIS LINE\n",
    "\"\"\"\n",
    "tests.test_decoding_layer_infer(decoding_layer_infer)"
   ]
  },
  {
   "cell_type": "markdown",
   "metadata": {},
   "source": [
    "### Build the Decoding Layer\n",
    "Implement `decoding_layer()` to create a Decoder RNN layer.\n",
    "\n",
    "* Embed the target sequences\n",
    "* Construct the decoder LSTM cell (just like you constructed the encoder cell above)\n",
    "* Create an output layer to map the outputs of the decoder to the elements of our vocabulary\n",
    "* Use the your `decoding_layer_train(encoder_state, dec_cell, dec_embed_input, target_sequence_length, max_target_sequence_length, output_layer, keep_prob)` function to get the training logits.\n",
    "* Use your `decoding_layer_infer(encoder_state, dec_cell, dec_embeddings, start_of_sequence_id, end_of_sequence_id, max_target_sequence_length, vocab_size, output_layer, batch_size, keep_prob)` function to get the inference logits.\n",
    "\n",
    "Note: You'll need to use [tf.variable_scope](https://www.tensorflow.org/api_docs/python/tf/variable_scope) to share variables between training and inference."
   ]
  },
  {
   "cell_type": "code",
   "execution_count": 45,
   "metadata": {},
   "outputs": [
    {
     "name": "stdout",
     "output_type": "stream",
     "text": [
      "Tests Passed\n"
     ]
    }
   ],
   "source": [
    "def decoding_layer(dec_input, encoder_state,\n",
    "                   target_sequence_length, max_target_sequence_length,\n",
    "                   rnn_size,\n",
    "                   num_layers, target_vocab_to_int, target_vocab_size,\n",
    "                   batch_size, keep_prob, decoding_embedding_size):\n",
    "    \"\"\"\n",
    "    Create decoding layer\n",
    "    :param dec_input: Decoder input\n",
    "    :param encoder_state: Encoder state\n",
    "    :param target_sequence_length: The lengths of each sequence in the target batch\n",
    "    :param max_target_sequence_length: Maximum length of target sequences\n",
    "    :param rnn_size: RNN Size\n",
    "    :param num_layers: Number of layers\n",
    "    :param target_vocab_to_int: Dictionary to go from the target words to an id\n",
    "    :param target_vocab_size: Size of target vocabulary\n",
    "    :param batch_size: The size of the batch\n",
    "    :param keep_prob: Dropout keep probability\n",
    "    :param decoding_embedding_size: Decoding embedding size\n",
    "    :return: Tuple of (Training BasicDecoderOutput, Inference BasicDecoderOutput)\n",
    "    \"\"\"\n",
    "    dec_embeddings = tf.Variable(tf.random_uniform([target_vocab_size, decoding_embedding_size]))\n",
    "    dec_embedding_input = tf.nn.embedding_lookup(dec_embeddings, dec_input)\n",
    "    \n",
    "    # lstm cell\n",
    "    def lstm_cell(rnn_size):\n",
    "        cell = tf.contrib.rnn.LSTMCell(rnn_size, initializer=tf.random_uniform_initializer(-0.1, 0.1, seed=2))\n",
    "        cell = tf.contrib.rnn.DropoutWrapper(cell, output_keep_prob=keep_prob)\n",
    "        return cell\n",
    "\n",
    "    dec_cell = tf.contrib.rnn.MultiRNNCell([lstm_cell(rnn_size) for _ in range(num_layers)])\n",
    "    output_layer = Dense(target_vocab_size, kernel_initializer=tf.truncated_normal_initializer(mean=0.0, stddev=0.1))\n",
    "    \n",
    "    with tf.variable_scope(\"decode\"):\n",
    "        training_decoder = decoding_layer_train(encoder_state,\n",
    "                                                dec_cell,\n",
    "                                                dec_embedding_input,\n",
    "                                                target_sequence_length,\n",
    "                                                max_target_sequence_length,\n",
    "                                                output_layer,\n",
    "                                                keep_prob)\n",
    "    \n",
    "    with tf.variable_scope(\"decode\", reuse=True):    \n",
    "        infer_decoder = decoding_layer_infer(encoder_state,\n",
    "                                             dec_cell,\n",
    "                                             dec_embeddings,\n",
    "                                             target_vocab_to_int['<GO>'],\n",
    "                                             target_vocab_to_int['<EOS>'],\n",
    "                                             max_target_sequence_length,\n",
    "                                             target_vocab_size,\n",
    "                                             output_layer,\n",
    "                                             batch_size,\n",
    "                                             keep_prob)\n",
    "        \n",
    "    return training_decoder, infer_decoder\n",
    "\n",
    "\n",
    "\n",
    "\"\"\"\n",
    "DON'T MODIFY ANYTHING IN THIS CELL THAT IS BELOW THIS LINE\n",
    "\"\"\"\n",
    "tests.test_decoding_layer(decoding_layer)"
   ]
  },
  {
   "cell_type": "markdown",
   "metadata": {},
   "source": [
    "### Build the Neural Network\n",
    "Apply the functions you implemented above to:\n",
    "\n",
    "- Encode the input using your `encoding_layer(rnn_inputs, rnn_size, num_layers, keep_prob,  source_sequence_length, source_vocab_size, encoding_embedding_size)`.\n",
    "- Process target data using your `process_decoder_input(target_data, target_vocab_to_int, batch_size)` function.\n",
    "- Decode the encoded input using your `decoding_layer(dec_input, enc_state, target_sequence_length, max_target_sentence_length, rnn_size, num_layers, target_vocab_to_int, target_vocab_size, batch_size, keep_prob, dec_embedding_size)` function."
   ]
  },
  {
   "cell_type": "code",
   "execution_count": 46,
   "metadata": {},
   "outputs": [
    {
     "name": "stdout",
     "output_type": "stream",
     "text": [
      "Tests Passed\n"
     ]
    }
   ],
   "source": [
    "def seq2seq_model(input_data, target_data, keep_prob, batch_size,\n",
    "                  source_sequence_length, target_sequence_length,\n",
    "                  max_target_sentence_length,\n",
    "                  source_vocab_size, target_vocab_size,\n",
    "                  enc_embedding_size, dec_embedding_size,\n",
    "                  rnn_size, num_layers, target_vocab_to_int):\n",
    "    \"\"\"\n",
    "    Build the Sequence-to-Sequence part of the neural network\n",
    "    :param input_data: Input placeholder\n",
    "    :param target_data: Target placeholder\n",
    "    :param keep_prob: Dropout keep probability placeholder\n",
    "    :param batch_size: Batch Size\n",
    "    :param source_sequence_length: Sequence Lengths of source sequences in the batch\n",
    "    :param target_sequence_length: Sequence Lengths of target sequences in the batch\n",
    "    :param source_vocab_size: Source vocabulary size\n",
    "    :param target_vocab_size: Target vocabulary size\n",
    "    :param enc_embedding_size: Decoder embedding size\n",
    "    :param dec_embedding_size: Encoder embedding size\n",
    "    :param rnn_size: RNN Size\n",
    "    :param num_layers: Number of layers\n",
    "    :param target_vocab_to_int: Dictionary to go from the target words to an id\n",
    "    :return: Tuple of (Training BasicDecoderOutput, Inference BasicDecoderOutput)\n",
    "    \"\"\"\n",
    "    # TODO: Implement Function\n",
    "    encod_output, encod_state = encoding_layer(input_data,\n",
    "                                               rnn_size,\n",
    "                                               num_layers,\n",
    "                                               keep_prob,\n",
    "                                               source_sequence_length,\n",
    "                                               source_vocab_size,\n",
    "                                               enc_embedding_size)\n",
    "    \n",
    "    decoder_input = process_decoder_input(target_data, target_vocab_to_int, batch_size)\n",
    "    training_decoder_output, infer_decoder_output = decoding_layer(decoder_input,\n",
    "                                                                   encod_state,\n",
    "                                                                   target_sequence_length,\n",
    "                                                                   max_target_sentence_length,\n",
    "                                                                   rnn_size, num_layers,\n",
    "                                                                   target_vocab_to_int,\n",
    "                                                                   target_vocab_size,\n",
    "                                                                   batch_size,\n",
    "                                                                   keep_prob,\n",
    "                                                                   dec_embedding_size)\n",
    "    return training_decoder_output, infer_decoder_output\n",
    "\n",
    "\n",
    "\"\"\"\n",
    "DON'T MODIFY ANYTHING IN THIS CELL THAT IS BELOW THIS LINE\n",
    "\"\"\"\n",
    "tests.test_seq2seq_model(seq2seq_model)"
   ]
  },
  {
   "cell_type": "markdown",
   "metadata": {},
   "source": [
    "## Neural Network Training\n",
    "### Hyperparameters\n",
    "Tune the following parameters:\n",
    "\n",
    "- Set `epochs` to the number of epochs.\n",
    "- Set `batch_size` to the batch size.\n",
    "- Set `rnn_size` to the size of the RNNs.\n",
    "- Set `num_layers` to the number of layers.\n",
    "- Set `encoding_embedding_size` to the size of the embedding for the encoder.\n",
    "- Set `decoding_embedding_size` to the size of the embedding for the decoder.\n",
    "- Set `learning_rate` to the learning rate.\n",
    "- Set `keep_probability` to the Dropout keep probability\n",
    "- Set `display_step` to state how many steps between each debug output statement"
   ]
  },
  {
   "cell_type": "code",
   "execution_count": 47,
   "metadata": {
    "collapsed": true
   },
   "outputs": [],
   "source": [
    "# Number of Epochs\n",
    "epochs = 10\n",
    "# Batch Size\n",
    "batch_size = 128\n",
    "# RNN Size\n",
    "rnn_size = 50\n",
    "# Number of Layers\n",
    "num_layers = 2\n",
    "# Embedding Size\n",
    "encoding_embedding_size = 15\n",
    "decoding_embedding_size = 15\n",
    "# Learning Rate\n",
    "learning_rate = 0.01\n",
    "# Dropout Keep Probability\n",
    "keep_probability = 0.5\n",
    "display_step = 1"
   ]
  },
  {
   "cell_type": "markdown",
   "metadata": {},
   "source": [
    "### Build the Graph\n",
    "Build the graph using the neural network you implemented."
   ]
  },
  {
   "cell_type": "code",
   "execution_count": 48,
   "metadata": {
    "collapsed": true
   },
   "outputs": [],
   "source": [
    "\"\"\"\n",
    "DON'T MODIFY ANYTHING IN THIS CELL\n",
    "\"\"\"\n",
    "save_path = 'checkpoints/dev'\n",
    "(source_int_text, target_int_text), (source_vocab_to_int, target_vocab_to_int), _ = helper.load_preprocess()\n",
    "max_target_sentence_length = max([len(sentence) for sentence in source_int_text])\n",
    "\n",
    "train_graph = tf.Graph()\n",
    "with train_graph.as_default():\n",
    "    input_data, targets, lr, keep_prob, target_sequence_length, max_target_sequence_length, source_sequence_length = model_inputs()\n",
    "\n",
    "    #sequence_length = tf.placeholder_with_default(max_target_sentence_length, None, name='sequence_length')\n",
    "    input_shape = tf.shape(input_data)\n",
    "\n",
    "    train_logits, inference_logits = seq2seq_model(tf.reverse(input_data, [-1]),\n",
    "                                                   targets,\n",
    "                                                   keep_prob,\n",
    "                                                   batch_size,\n",
    "                                                   source_sequence_length,\n",
    "                                                   target_sequence_length,\n",
    "                                                   max_target_sequence_length,\n",
    "                                                   len(source_vocab_to_int),\n",
    "                                                   len(target_vocab_to_int),\n",
    "                                                   encoding_embedding_size,\n",
    "                                                   decoding_embedding_size,\n",
    "                                                   rnn_size,\n",
    "                                                   num_layers,\n",
    "                                                   target_vocab_to_int)\n",
    "\n",
    "\n",
    "    training_logits = tf.identity(train_logits.rnn_output, name='logits')\n",
    "    inference_logits = tf.identity(inference_logits.sample_id, name='predictions')\n",
    "\n",
    "    masks = tf.sequence_mask(target_sequence_length, max_target_sequence_length, dtype=tf.float32, name='masks')\n",
    "\n",
    "    with tf.name_scope(\"optimization\"):\n",
    "        # Loss function\n",
    "        cost = tf.contrib.seq2seq.sequence_loss(\n",
    "            training_logits,\n",
    "            targets,\n",
    "            masks)\n",
    "\n",
    "        # Optimizer\n",
    "        optimizer = tf.train.AdamOptimizer(lr)\n",
    "\n",
    "        # Gradient Clipping\n",
    "        gradients = optimizer.compute_gradients(cost)\n",
    "        capped_gradients = [(tf.clip_by_value(grad, -1., 1.), var) for grad, var in gradients if grad is not None]\n",
    "        train_op = optimizer.apply_gradients(capped_gradients)\n"
   ]
  },
  {
   "cell_type": "markdown",
   "metadata": {},
   "source": [
    "Batch and pad the source and target sequences"
   ]
  },
  {
   "cell_type": "code",
   "execution_count": 49,
   "metadata": {
    "collapsed": true
   },
   "outputs": [],
   "source": [
    "\"\"\"\n",
    "DON'T MODIFY ANYTHING IN THIS CELL\n",
    "\"\"\"\n",
    "def pad_sentence_batch(sentence_batch, pad_int):\n",
    "    \"\"\"Pad sentences with <PAD> so that each sentence of a batch has the same length\"\"\"\n",
    "    max_sentence = max([len(sentence) for sentence in sentence_batch])\n",
    "    return [sentence + [pad_int] * (max_sentence - len(sentence)) for sentence in sentence_batch]\n",
    "\n",
    "\n",
    "def get_batches(sources, targets, batch_size, source_pad_int, target_pad_int):\n",
    "    \"\"\"Batch targets, sources, and the lengths of their sentences together\"\"\"\n",
    "    for batch_i in range(0, len(sources)//batch_size):\n",
    "        start_i = batch_i * batch_size\n",
    "\n",
    "        # Slice the right amount for the batch\n",
    "        sources_batch = sources[start_i:start_i + batch_size]\n",
    "        targets_batch = targets[start_i:start_i + batch_size]\n",
    "\n",
    "        # Pad\n",
    "        pad_sources_batch = np.array(pad_sentence_batch(sources_batch, source_pad_int))\n",
    "        pad_targets_batch = np.array(pad_sentence_batch(targets_batch, target_pad_int))\n",
    "\n",
    "        # Need the lengths for the _lengths parameters\n",
    "        pad_targets_lengths = []\n",
    "        for target in pad_targets_batch:\n",
    "            pad_targets_lengths.append(len(target))\n",
    "\n",
    "        pad_source_lengths = []\n",
    "        for source in pad_sources_batch:\n",
    "            pad_source_lengths.append(len(source))\n",
    "\n",
    "        yield pad_sources_batch, pad_targets_batch, pad_source_lengths, pad_targets_lengths\n"
   ]
  },
  {
   "cell_type": "markdown",
   "metadata": {},
   "source": [
    "### Train\n",
    "Train the neural network on the preprocessed data. If you have a hard time getting a good loss, check the forms to see if anyone is having the same problem."
   ]
  },
  {
   "cell_type": "code",
   "execution_count": 50,
   "metadata": {
    "scrolled": true
   },
   "outputs": [
    {
     "name": "stdout",
     "output_type": "stream",
     "text": [
      "Epoch   0 Batch    1/1077 - Train Accuracy: 0.2215, Validation Accuracy: 0.3050, Loss: 5.7507\n",
      "Epoch   0 Batch    2/1077 - Train Accuracy: 0.2064, Validation Accuracy: 0.3050, Loss: 5.3891\n",
      "Epoch   0 Batch    3/1077 - Train Accuracy: 0.2387, Validation Accuracy: 0.3050, Loss: 4.8976\n",
      "Epoch   0 Batch    4/1077 - Train Accuracy: 0.2242, Validation Accuracy: 0.3050, Loss: 4.5323\n",
      "Epoch   0 Batch    5/1077 - Train Accuracy: 0.2605, Validation Accuracy: 0.3050, Loss: 4.1399\n",
      "Epoch   0 Batch    6/1077 - Train Accuracy: 0.2461, Validation Accuracy: 0.3097, Loss: 3.9830\n",
      "Epoch   0 Batch    7/1077 - Train Accuracy: 0.2316, Validation Accuracy: 0.3097, Loss: 3.9375\n",
      "Epoch   0 Batch    8/1077 - Train Accuracy: 0.2633, Validation Accuracy: 0.3349, Loss: 3.7599\n",
      "Epoch   0 Batch    9/1077 - Train Accuracy: 0.2742, Validation Accuracy: 0.3366, Loss: 3.7103\n",
      "Epoch   0 Batch   10/1077 - Train Accuracy: 0.2377, Validation Accuracy: 0.3388, Loss: 3.8173\n",
      "Epoch   0 Batch   11/1077 - Train Accuracy: 0.3021, Validation Accuracy: 0.3452, Loss: 3.5431\n",
      "Epoch   0 Batch   12/1077 - Train Accuracy: 0.2699, Validation Accuracy: 0.3430, Loss: 3.6088\n",
      "Epoch   0 Batch   13/1077 - Train Accuracy: 0.3151, Validation Accuracy: 0.3388, Loss: 3.4647\n",
      "Epoch   0 Batch   14/1077 - Train Accuracy: 0.2939, Validation Accuracy: 0.3388, Loss: 3.4452\n",
      "Epoch   0 Batch   15/1077 - Train Accuracy: 0.2746, Validation Accuracy: 0.3388, Loss: 3.5478\n",
      "Epoch   0 Batch   16/1077 - Train Accuracy: 0.2898, Validation Accuracy: 0.3388, Loss: 3.4963\n",
      "Epoch   0 Batch   17/1077 - Train Accuracy: 0.2883, Validation Accuracy: 0.3388, Loss: 3.4215\n",
      "Epoch   0 Batch   18/1077 - Train Accuracy: 0.2805, Validation Accuracy: 0.3512, Loss: 3.4675\n",
      "Epoch   0 Batch   19/1077 - Train Accuracy: 0.3059, Validation Accuracy: 0.3558, Loss: 3.3049\n",
      "Epoch   0 Batch   20/1077 - Train Accuracy: 0.2938, Validation Accuracy: 0.3583, Loss: 3.3537\n",
      "Epoch   0 Batch   21/1077 - Train Accuracy: 0.2676, Validation Accuracy: 0.3494, Loss: 3.3745\n",
      "Epoch   0 Batch   22/1077 - Train Accuracy: 0.2746, Validation Accuracy: 0.3434, Loss: 3.6399\n",
      "Epoch   0 Batch   23/1077 - Train Accuracy: 0.2875, Validation Accuracy: 0.3537, Loss: 3.6031\n",
      "Epoch   0 Batch   24/1077 - Train Accuracy: 0.3008, Validation Accuracy: 0.3654, Loss: 3.4921\n",
      "Epoch   0 Batch   25/1077 - Train Accuracy: 0.2996, Validation Accuracy: 0.3686, Loss: 3.4444\n",
      "Epoch   0 Batch   26/1077 - Train Accuracy: 0.2992, Validation Accuracy: 0.3700, Loss: 3.3593\n",
      "Epoch   0 Batch   27/1077 - Train Accuracy: 0.3456, Validation Accuracy: 0.3704, Loss: 3.1064\n",
      "Epoch   0 Batch   28/1077 - Train Accuracy: 0.3145, Validation Accuracy: 0.3683, Loss: 3.2146\n",
      "Epoch   0 Batch   29/1077 - Train Accuracy: 0.3102, Validation Accuracy: 0.3672, Loss: 3.2124\n",
      "Epoch   0 Batch   30/1077 - Train Accuracy: 0.2988, Validation Accuracy: 0.3654, Loss: 3.2451\n",
      "Epoch   0 Batch   31/1077 - Train Accuracy: 0.3012, Validation Accuracy: 0.3636, Loss: 3.2337\n",
      "Epoch   0 Batch   32/1077 - Train Accuracy: 0.3564, Validation Accuracy: 0.3672, Loss: 3.0730\n",
      "Epoch   0 Batch   33/1077 - Train Accuracy: 0.3389, Validation Accuracy: 0.3679, Loss: 3.0543\n",
      "Epoch   0 Batch   34/1077 - Train Accuracy: 0.3043, Validation Accuracy: 0.3729, Loss: 3.1282\n",
      "Epoch   0 Batch   35/1077 - Train Accuracy: 0.3117, Validation Accuracy: 0.3714, Loss: 3.1509\n",
      "Epoch   0 Batch   36/1077 - Train Accuracy: 0.3215, Validation Accuracy: 0.3612, Loss: 3.0674\n",
      "Epoch   0 Batch   37/1077 - Train Accuracy: 0.3090, Validation Accuracy: 0.3686, Loss: 3.1140\n",
      "Epoch   0 Batch   38/1077 - Train Accuracy: 0.2866, Validation Accuracy: 0.3793, Loss: 3.2658\n",
      "Epoch   0 Batch   39/1077 - Train Accuracy: 0.3246, Validation Accuracy: 0.3793, Loss: 3.1240\n",
      "Epoch   0 Batch   40/1077 - Train Accuracy: 0.3293, Validation Accuracy: 0.3896, Loss: 3.0867\n",
      "Epoch   0 Batch   41/1077 - Train Accuracy: 0.3545, Validation Accuracy: 0.3938, Loss: 2.9644\n",
      "Epoch   0 Batch   42/1077 - Train Accuracy: 0.3379, Validation Accuracy: 0.3970, Loss: 3.0291\n",
      "Epoch   0 Batch   43/1077 - Train Accuracy: 0.2866, Validation Accuracy: 0.3839, Loss: 3.0967\n",
      "Epoch   0 Batch   44/1077 - Train Accuracy: 0.2932, Validation Accuracy: 0.3963, Loss: 3.2493\n",
      "Epoch   0 Batch   45/1077 - Train Accuracy: 0.3055, Validation Accuracy: 0.3718, Loss: 3.0317\n",
      "Epoch   0 Batch   46/1077 - Train Accuracy: 0.3150, Validation Accuracy: 0.3984, Loss: 3.1404\n",
      "Epoch   0 Batch   47/1077 - Train Accuracy: 0.3398, Validation Accuracy: 0.3924, Loss: 2.9735\n",
      "Epoch   0 Batch   48/1077 - Train Accuracy: 0.3559, Validation Accuracy: 0.4002, Loss: 2.9901\n",
      "Epoch   0 Batch   49/1077 - Train Accuracy: 0.3504, Validation Accuracy: 0.3874, Loss: 2.9466\n",
      "Epoch   0 Batch   50/1077 - Train Accuracy: 0.3277, Validation Accuracy: 0.3981, Loss: 3.0892\n",
      "Epoch   0 Batch   51/1077 - Train Accuracy: 0.3711, Validation Accuracy: 0.4052, Loss: 2.9360\n",
      "Epoch   0 Batch   52/1077 - Train Accuracy: 0.3387, Validation Accuracy: 0.4006, Loss: 2.9968\n",
      "Epoch   0 Batch   53/1077 - Train Accuracy: 0.3277, Validation Accuracy: 0.4006, Loss: 3.0049\n",
      "Epoch   0 Batch   54/1077 - Train Accuracy: 0.3297, Validation Accuracy: 0.3999, Loss: 3.0693\n",
      "Epoch   0 Batch   55/1077 - Train Accuracy: 0.3508, Validation Accuracy: 0.3903, Loss: 2.9042\n",
      "Epoch   0 Batch   56/1077 - Train Accuracy: 0.3484, Validation Accuracy: 0.4098, Loss: 2.9594\n",
      "Epoch   0 Batch   57/1077 - Train Accuracy: 0.4134, Validation Accuracy: 0.4094, Loss: 2.6488\n",
      "Epoch   0 Batch   58/1077 - Train Accuracy: 0.3555, Validation Accuracy: 0.4077, Loss: 2.9249\n",
      "Epoch   0 Batch   59/1077 - Train Accuracy: 0.3183, Validation Accuracy: 0.4141, Loss: 3.0894\n",
      "Epoch   0 Batch   60/1077 - Train Accuracy: 0.3739, Validation Accuracy: 0.4070, Loss: 2.8248\n",
      "Epoch   0 Batch   61/1077 - Train Accuracy: 0.3582, Validation Accuracy: 0.4031, Loss: 2.9077\n",
      "Epoch   0 Batch   62/1077 - Train Accuracy: 0.3433, Validation Accuracy: 0.4332, Loss: 3.0692\n",
      "Epoch   0 Batch   63/1077 - Train Accuracy: 0.4062, Validation Accuracy: 0.4297, Loss: 2.7415\n",
      "Epoch   0 Batch   64/1077 - Train Accuracy: 0.3660, Validation Accuracy: 0.4283, Loss: 2.9096\n",
      "Epoch   0 Batch   65/1077 - Train Accuracy: 0.3392, Validation Accuracy: 0.4279, Loss: 3.0726\n",
      "Epoch   0 Batch   66/1077 - Train Accuracy: 0.3475, Validation Accuracy: 0.3952, Loss: 2.8534\n",
      "Epoch   0 Batch   67/1077 - Train Accuracy: 0.3988, Validation Accuracy: 0.4134, Loss: 2.7863\n",
      "Epoch   0 Batch   68/1077 - Train Accuracy: 0.3637, Validation Accuracy: 0.4354, Loss: 2.8819\n",
      "Epoch   0 Batch   69/1077 - Train Accuracy: 0.3969, Validation Accuracy: 0.4308, Loss: 2.8187\n",
      "Epoch   0 Batch   70/1077 - Train Accuracy: 0.3466, Validation Accuracy: 0.4428, Loss: 3.0181\n",
      "Epoch   0 Batch   71/1077 - Train Accuracy: 0.3598, Validation Accuracy: 0.4290, Loss: 2.8280\n",
      "Epoch   0 Batch   72/1077 - Train Accuracy: 0.3668, Validation Accuracy: 0.4194, Loss: 2.8191\n",
      "Epoch   0 Batch   73/1077 - Train Accuracy: 0.3793, Validation Accuracy: 0.4375, Loss: 2.8254\n",
      "Epoch   0 Batch   74/1077 - Train Accuracy: 0.4148, Validation Accuracy: 0.4464, Loss: 2.6879\n",
      "Epoch   0 Batch   75/1077 - Train Accuracy: 0.4051, Validation Accuracy: 0.4457, Loss: 2.7160\n",
      "Epoch   0 Batch   76/1077 - Train Accuracy: 0.4000, Validation Accuracy: 0.4556, Loss: 2.8029\n",
      "Epoch   0 Batch   77/1077 - Train Accuracy: 0.3617, Validation Accuracy: 0.4286, Loss: 2.7942\n",
      "Epoch   0 Batch   78/1077 - Train Accuracy: 0.3368, Validation Accuracy: 0.4251, Loss: 2.9325\n",
      "Epoch   0 Batch   79/1077 - Train Accuracy: 0.4039, Validation Accuracy: 0.4535, Loss: 2.7933\n",
      "Epoch   0 Batch   80/1077 - Train Accuracy: 0.3848, Validation Accuracy: 0.4457, Loss: 2.7276\n",
      "Epoch   0 Batch   81/1077 - Train Accuracy: 0.4031, Validation Accuracy: 0.4563, Loss: 2.7470\n",
      "Epoch   0 Batch   82/1077 - Train Accuracy: 0.4627, Validation Accuracy: 0.4592, Loss: 2.4980\n",
      "Epoch   0 Batch   83/1077 - Train Accuracy: 0.3803, Validation Accuracy: 0.4535, Loss: 2.8382\n",
      "Epoch   0 Batch   84/1077 - Train Accuracy: 0.4121, Validation Accuracy: 0.4680, Loss: 2.7176\n",
      "Epoch   0 Batch   85/1077 - Train Accuracy: 0.4273, Validation Accuracy: 0.4673, Loss: 2.5957\n",
      "Epoch   0 Batch   86/1077 - Train Accuracy: 0.4086, Validation Accuracy: 0.4648, Loss: 2.7187\n",
      "Epoch   0 Batch   87/1077 - Train Accuracy: 0.4156, Validation Accuracy: 0.4616, Loss: 2.6915\n",
      "Epoch   0 Batch   88/1077 - Train Accuracy: 0.4199, Validation Accuracy: 0.4567, Loss: 2.6666\n"
     ]
    },
    {
     "name": "stdout",
     "output_type": "stream",
     "text": [
      "Epoch   0 Batch   89/1077 - Train Accuracy: 0.3937, Validation Accuracy: 0.4599, Loss: 2.6964\n",
      "Epoch   0 Batch   90/1077 - Train Accuracy: 0.4133, Validation Accuracy: 0.4659, Loss: 2.7138\n",
      "Epoch   0 Batch   91/1077 - Train Accuracy: 0.4661, Validation Accuracy: 0.4641, Loss: 2.4358\n",
      "Epoch   0 Batch   92/1077 - Train Accuracy: 0.4349, Validation Accuracy: 0.4677, Loss: 2.6072\n",
      "Epoch   0 Batch   93/1077 - Train Accuracy: 0.4074, Validation Accuracy: 0.4620, Loss: 2.6411\n",
      "Epoch   0 Batch   94/1077 - Train Accuracy: 0.4324, Validation Accuracy: 0.4691, Loss: 2.5925\n",
      "Epoch   0 Batch   95/1077 - Train Accuracy: 0.4475, Validation Accuracy: 0.4769, Loss: 2.5236\n",
      "Epoch   0 Batch   96/1077 - Train Accuracy: 0.4223, Validation Accuracy: 0.4769, Loss: 2.5789\n",
      "Epoch   0 Batch   97/1077 - Train Accuracy: 0.4402, Validation Accuracy: 0.4762, Loss: 2.5716\n",
      "Epoch   0 Batch   98/1077 - Train Accuracy: 0.4501, Validation Accuracy: 0.4670, Loss: 2.4563\n",
      "Epoch   0 Batch   99/1077 - Train Accuracy: 0.3984, Validation Accuracy: 0.4787, Loss: 2.6700\n",
      "Epoch   0 Batch  100/1077 - Train Accuracy: 0.4246, Validation Accuracy: 0.4783, Loss: 2.6227\n",
      "Epoch   0 Batch  101/1077 - Train Accuracy: 0.4324, Validation Accuracy: 0.4812, Loss: 2.5735\n",
      "Epoch   0 Batch  102/1077 - Train Accuracy: 0.4414, Validation Accuracy: 0.4769, Loss: 2.4627\n",
      "Epoch   0 Batch  103/1077 - Train Accuracy: 0.3873, Validation Accuracy: 0.4734, Loss: 2.7121\n",
      "Epoch   0 Batch  104/1077 - Train Accuracy: 0.3512, Validation Accuracy: 0.4709, Loss: 2.7197\n",
      "Epoch   0 Batch  105/1077 - Train Accuracy: 0.4383, Validation Accuracy: 0.4876, Loss: 2.5031\n",
      "Epoch   0 Batch  106/1077 - Train Accuracy: 0.4322, Validation Accuracy: 0.4940, Loss: 2.6161\n",
      "Epoch   0 Batch  107/1077 - Train Accuracy: 0.4561, Validation Accuracy: 0.4904, Loss: 2.4165\n",
      "Epoch   0 Batch  108/1077 - Train Accuracy: 0.4862, Validation Accuracy: 0.4904, Loss: 2.2872\n",
      "Epoch   0 Batch  109/1077 - Train Accuracy: 0.4453, Validation Accuracy: 0.4858, Loss: 2.4740\n",
      "Epoch   0 Batch  110/1077 - Train Accuracy: 0.4613, Validation Accuracy: 0.4862, Loss: 2.4339\n",
      "Epoch   0 Batch  111/1077 - Train Accuracy: 0.4242, Validation Accuracy: 0.4847, Loss: 2.5169\n",
      "Epoch   0 Batch  112/1077 - Train Accuracy: 0.4309, Validation Accuracy: 0.4854, Loss: 2.4730\n",
      "Epoch   0 Batch  113/1077 - Train Accuracy: 0.4254, Validation Accuracy: 0.4865, Loss: 2.5016\n",
      "Epoch   0 Batch  114/1077 - Train Accuracy: 0.4572, Validation Accuracy: 0.4830, Loss: 2.3666\n",
      "Epoch   0 Batch  115/1077 - Train Accuracy: 0.4273, Validation Accuracy: 0.4897, Loss: 2.4740\n",
      "Epoch   0 Batch  116/1077 - Train Accuracy: 0.4113, Validation Accuracy: 0.4876, Loss: 2.4898\n",
      "Epoch   0 Batch  117/1077 - Train Accuracy: 0.4105, Validation Accuracy: 0.4908, Loss: 2.5082\n",
      "Epoch   0 Batch  118/1077 - Train Accuracy: 0.3935, Validation Accuracy: 0.4815, Loss: 2.5710\n",
      "Epoch   0 Batch  119/1077 - Train Accuracy: 0.4320, Validation Accuracy: 0.4879, Loss: 2.4074\n",
      "Epoch   0 Batch  120/1077 - Train Accuracy: 0.4289, Validation Accuracy: 0.4833, Loss: 2.4095\n",
      "Epoch   0 Batch  121/1077 - Train Accuracy: 0.4328, Validation Accuracy: 0.4790, Loss: 2.4166\n",
      "Epoch   0 Batch  122/1077 - Train Accuracy: 0.4219, Validation Accuracy: 0.4737, Loss: 2.3548\n",
      "Epoch   0 Batch  123/1077 - Train Accuracy: 0.4203, Validation Accuracy: 0.4684, Loss: 2.2930\n",
      "Epoch   0 Batch  124/1077 - Train Accuracy: 0.4168, Validation Accuracy: 0.4659, Loss: 2.3415\n",
      "Epoch   0 Batch  125/1077 - Train Accuracy: 0.4431, Validation Accuracy: 0.4688, Loss: 2.2898\n",
      "Epoch   0 Batch  126/1077 - Train Accuracy: 0.4293, Validation Accuracy: 0.4645, Loss: 2.2477\n",
      "Epoch   0 Batch  127/1077 - Train Accuracy: 0.4113, Validation Accuracy: 0.4503, Loss: 2.3027\n",
      "Epoch   0 Batch  128/1077 - Train Accuracy: 0.4133, Validation Accuracy: 0.4268, Loss: 2.1822\n",
      "Epoch   0 Batch  129/1077 - Train Accuracy: 0.3914, Validation Accuracy: 0.4329, Loss: 2.2742\n",
      "Epoch   0 Batch  130/1077 - Train Accuracy: 0.4289, Validation Accuracy: 0.4535, Loss: 2.1486\n",
      "Epoch   0 Batch  131/1077 - Train Accuracy: 0.3863, Validation Accuracy: 0.4368, Loss: 2.2758\n",
      "Epoch   0 Batch  132/1077 - Train Accuracy: 0.3688, Validation Accuracy: 0.4354, Loss: 2.2940\n",
      "Epoch   0 Batch  133/1077 - Train Accuracy: 0.3215, Validation Accuracy: 0.3991, Loss: 2.2538\n",
      "Epoch   0 Batch  134/1077 - Train Accuracy: 0.3664, Validation Accuracy: 0.4055, Loss: 2.1580\n",
      "Epoch   0 Batch  135/1077 - Train Accuracy: 0.3355, Validation Accuracy: 0.3821, Loss: 2.3050\n",
      "Epoch   0 Batch  136/1077 - Train Accuracy: 0.2586, Validation Accuracy: 0.2990, Loss: 2.1749\n",
      "Epoch   0 Batch  137/1077 - Train Accuracy: 0.3077, Validation Accuracy: 0.3299, Loss: 2.0466\n",
      "Epoch   0 Batch  138/1077 - Train Accuracy: 0.3301, Validation Accuracy: 0.3636, Loss: 2.1157\n",
      "Epoch   0 Batch  139/1077 - Train Accuracy: 0.3668, Validation Accuracy: 0.4045, Loss: 2.1409\n",
      "Epoch   0 Batch  140/1077 - Train Accuracy: 0.3129, Validation Accuracy: 0.3988, Loss: 2.2946\n",
      "Epoch   0 Batch  141/1077 - Train Accuracy: 0.2977, Validation Accuracy: 0.3459, Loss: 2.1837\n",
      "Epoch   0 Batch  142/1077 - Train Accuracy: 0.3423, Validation Accuracy: 0.3473, Loss: 1.9966\n",
      "Epoch   0 Batch  143/1077 - Train Accuracy: 0.3523, Validation Accuracy: 0.3825, Loss: 2.0914\n",
      "Epoch   0 Batch  144/1077 - Train Accuracy: 0.3006, Validation Accuracy: 0.3853, Loss: 2.2261\n",
      "Epoch   0 Batch  145/1077 - Train Accuracy: 0.2719, Validation Accuracy: 0.3274, Loss: 2.0331\n",
      "Epoch   0 Batch  146/1077 - Train Accuracy: 0.2753, Validation Accuracy: 0.3143, Loss: 2.0414\n",
      "Epoch   0 Batch  147/1077 - Train Accuracy: 0.2930, Validation Accuracy: 0.3576, Loss: 2.1113\n",
      "Epoch   0 Batch  148/1077 - Train Accuracy: 0.3227, Validation Accuracy: 0.3501, Loss: 2.0542\n",
      "Epoch   0 Batch  149/1077 - Train Accuracy: 0.2773, Validation Accuracy: 0.3072, Loss: 2.0938\n",
      "Epoch   0 Batch  150/1077 - Train Accuracy: 0.2347, Validation Accuracy: 0.2102, Loss: 1.9178\n",
      "Epoch   0 Batch  151/1077 - Train Accuracy: 0.2281, Validation Accuracy: 0.2180, Loss: 1.9448\n",
      "Epoch   0 Batch  152/1077 - Train Accuracy: 0.2094, Validation Accuracy: 0.2006, Loss: 1.9998\n",
      "Epoch   0 Batch  153/1077 - Train Accuracy: 0.1625, Validation Accuracy: 0.1793, Loss: 2.0756\n",
      "Epoch   0 Batch  154/1077 - Train Accuracy: 0.1690, Validation Accuracy: 0.1978, Loss: 2.1321\n",
      "Epoch   0 Batch  155/1077 - Train Accuracy: 0.2313, Validation Accuracy: 0.2298, Loss: 1.9409\n",
      "Epoch   0 Batch  156/1077 - Train Accuracy: 0.2027, Validation Accuracy: 0.2092, Loss: 1.9727\n",
      "Epoch   0 Batch  157/1077 - Train Accuracy: 0.1711, Validation Accuracy: 0.1822, Loss: 1.9792\n",
      "Epoch   0 Batch  158/1077 - Train Accuracy: 0.1972, Validation Accuracy: 0.1779, Loss: 1.9450\n",
      "Epoch   0 Batch  159/1077 - Train Accuracy: 0.2831, Validation Accuracy: 0.3075, Loss: 1.8690\n",
      "Epoch   0 Batch  160/1077 - Train Accuracy: 0.2801, Validation Accuracy: 0.3498, Loss: 1.9129\n",
      "Epoch   0 Batch  161/1077 - Train Accuracy: 0.1820, Validation Accuracy: 0.2099, Loss: 1.9383\n",
      "Epoch   0 Batch  162/1077 - Train Accuracy: 0.1766, Validation Accuracy: 0.1960, Loss: 1.9290\n",
      "Epoch   0 Batch  163/1077 - Train Accuracy: 0.1846, Validation Accuracy: 0.2006, Loss: 2.0073\n",
      "Epoch   0 Batch  164/1077 - Train Accuracy: 0.2102, Validation Accuracy: 0.2340, Loss: 1.9513\n",
      "Epoch   0 Batch  165/1077 - Train Accuracy: 0.2266, Validation Accuracy: 0.2837, Loss: 1.8677\n",
      "Epoch   0 Batch  166/1077 - Train Accuracy: 0.2547, Validation Accuracy: 0.2088, Loss: 1.8151\n",
      "Epoch   0 Batch  167/1077 - Train Accuracy: 0.1633, Validation Accuracy: 0.1811, Loss: 1.9165\n",
      "Epoch   0 Batch  168/1077 - Train Accuracy: 0.1859, Validation Accuracy: 0.1797, Loss: 1.9535\n",
      "Epoch   0 Batch  169/1077 - Train Accuracy: 0.2467, Validation Accuracy: 0.2056, Loss: 1.7526\n",
      "Epoch   0 Batch  170/1077 - Train Accuracy: 0.1789, Validation Accuracy: 0.2120, Loss: 1.9034\n",
      "Epoch   0 Batch  171/1077 - Train Accuracy: 0.1854, Validation Accuracy: 0.2131, Loss: 1.7291\n",
      "Epoch   0 Batch  172/1077 - Train Accuracy: 0.2135, Validation Accuracy: 0.2010, Loss: 1.7373\n",
      "Epoch   0 Batch  173/1077 - Train Accuracy: 0.1719, Validation Accuracy: 0.1921, Loss: 1.9684\n",
      "Epoch   0 Batch  174/1077 - Train Accuracy: 0.1719, Validation Accuracy: 0.1783, Loss: 1.7887\n",
      "Epoch   0 Batch  175/1077 - Train Accuracy: 0.2234, Validation Accuracy: 0.1793, Loss: 1.7499\n",
      "Epoch   0 Batch  176/1077 - Train Accuracy: 0.1656, Validation Accuracy: 0.1857, Loss: 1.7672\n"
     ]
    },
    {
     "name": "stdout",
     "output_type": "stream",
     "text": [
      "Epoch   0 Batch  177/1077 - Train Accuracy: 0.2027, Validation Accuracy: 0.1925, Loss: 1.9108\n",
      "Epoch   0 Batch  178/1077 - Train Accuracy: 0.2059, Validation Accuracy: 0.1989, Loss: 1.7591\n",
      "Epoch   0 Batch  179/1077 - Train Accuracy: 0.2270, Validation Accuracy: 0.2028, Loss: 1.8468\n",
      "Epoch   0 Batch  180/1077 - Train Accuracy: 0.2020, Validation Accuracy: 0.1942, Loss: 1.7429\n",
      "Epoch   0 Batch  181/1077 - Train Accuracy: 0.2258, Validation Accuracy: 0.2166, Loss: 1.7330\n",
      "Epoch   0 Batch  182/1077 - Train Accuracy: 0.2254, Validation Accuracy: 0.2365, Loss: 1.7081\n",
      "Epoch   0 Batch  183/1077 - Train Accuracy: 0.1918, Validation Accuracy: 0.2195, Loss: 1.7929\n",
      "Epoch   0 Batch  184/1077 - Train Accuracy: 0.2000, Validation Accuracy: 0.2095, Loss: 1.6989\n",
      "Epoch   0 Batch  185/1077 - Train Accuracy: 0.1992, Validation Accuracy: 0.2124, Loss: 1.7012\n",
      "Epoch   0 Batch  186/1077 - Train Accuracy: 0.2208, Validation Accuracy: 0.1889, Loss: 1.7834\n",
      "Epoch   0 Batch  187/1077 - Train Accuracy: 0.1855, Validation Accuracy: 0.1911, Loss: 1.7249\n",
      "Epoch   0 Batch  188/1077 - Train Accuracy: 0.2000, Validation Accuracy: 0.1903, Loss: 1.7105\n",
      "Epoch   0 Batch  189/1077 - Train Accuracy: 0.1605, Validation Accuracy: 0.1864, Loss: 1.7598\n",
      "Epoch   0 Batch  190/1077 - Train Accuracy: 0.1789, Validation Accuracy: 0.1857, Loss: 1.7161\n",
      "Epoch   0 Batch  191/1077 - Train Accuracy: 0.1708, Validation Accuracy: 0.1939, Loss: 1.5290\n",
      "Epoch   0 Batch  192/1077 - Train Accuracy: 0.1934, Validation Accuracy: 0.1957, Loss: 1.7227\n",
      "Epoch   0 Batch  193/1077 - Train Accuracy: 0.2375, Validation Accuracy: 0.2010, Loss: 1.6300\n",
      "Epoch   0 Batch  194/1077 - Train Accuracy: 0.2061, Validation Accuracy: 0.2099, Loss: 1.5886\n",
      "Epoch   0 Batch  195/1077 - Train Accuracy: 0.1910, Validation Accuracy: 0.2383, Loss: 1.6750\n",
      "Epoch   0 Batch  196/1077 - Train Accuracy: 0.2227, Validation Accuracy: 0.2369, Loss: 1.6202\n",
      "Epoch   0 Batch  197/1077 - Train Accuracy: 0.2707, Validation Accuracy: 0.2386, Loss: 1.6154\n",
      "Epoch   0 Batch  198/1077 - Train Accuracy: 0.2403, Validation Accuracy: 0.2539, Loss: 1.5155\n",
      "Epoch   0 Batch  199/1077 - Train Accuracy: 0.2223, Validation Accuracy: 0.2528, Loss: 1.6555\n",
      "Epoch   0 Batch  200/1077 - Train Accuracy: 0.2605, Validation Accuracy: 0.2557, Loss: 1.6415\n",
      "Epoch   0 Batch  201/1077 - Train Accuracy: 0.2891, Validation Accuracy: 0.2575, Loss: 1.5590\n",
      "Epoch   0 Batch  202/1077 - Train Accuracy: 0.2426, Validation Accuracy: 0.2575, Loss: 1.6362\n",
      "Epoch   0 Batch  203/1077 - Train Accuracy: 0.2930, Validation Accuracy: 0.2543, Loss: 1.5698\n",
      "Epoch   0 Batch  204/1077 - Train Accuracy: 0.2301, Validation Accuracy: 0.2507, Loss: 1.5853\n",
      "Epoch   0 Batch  205/1077 - Train Accuracy: 0.2570, Validation Accuracy: 0.2472, Loss: 1.6819\n",
      "Epoch   0 Batch  206/1077 - Train Accuracy: 0.2137, Validation Accuracy: 0.2393, Loss: 1.6229\n",
      "Epoch   0 Batch  207/1077 - Train Accuracy: 0.2129, Validation Accuracy: 0.2393, Loss: 1.6296\n",
      "Epoch   0 Batch  208/1077 - Train Accuracy: 0.2403, Validation Accuracy: 0.2496, Loss: 1.5554\n",
      "Epoch   0 Batch  209/1077 - Train Accuracy: 0.2374, Validation Accuracy: 0.2571, Loss: 1.4747\n",
      "Epoch   0 Batch  210/1077 - Train Accuracy: 0.2251, Validation Accuracy: 0.2415, Loss: 1.6020\n",
      "Epoch   0 Batch  211/1077 - Train Accuracy: 0.2246, Validation Accuracy: 0.2489, Loss: 1.5557\n",
      "Epoch   0 Batch  212/1077 - Train Accuracy: 0.2604, Validation Accuracy: 0.2457, Loss: 1.4909\n",
      "Epoch   0 Batch  213/1077 - Train Accuracy: 0.2617, Validation Accuracy: 0.2496, Loss: 1.5150\n",
      "Epoch   0 Batch  214/1077 - Train Accuracy: 0.2379, Validation Accuracy: 0.2500, Loss: 1.5448\n",
      "Epoch   0 Batch  215/1077 - Train Accuracy: 0.2133, Validation Accuracy: 0.2312, Loss: 1.5714\n",
      "Epoch   0 Batch  216/1077 - Train Accuracy: 0.2320, Validation Accuracy: 0.2319, Loss: 1.5813\n",
      "Epoch   0 Batch  217/1077 - Train Accuracy: 0.2582, Validation Accuracy: 0.2315, Loss: 1.4860\n",
      "Epoch   0 Batch  218/1077 - Train Accuracy: 0.2418, Validation Accuracy: 0.2337, Loss: 1.6539\n",
      "Epoch   0 Batch  219/1077 - Train Accuracy: 0.3453, Validation Accuracy: 0.4023, Loss: 1.5434\n",
      "Epoch   0 Batch  220/1077 - Train Accuracy: 0.3750, Validation Accuracy: 0.4237, Loss: 1.5439\n",
      "Epoch   0 Batch  221/1077 - Train Accuracy: 0.3265, Validation Accuracy: 0.3796, Loss: 1.5491\n",
      "Epoch   0 Batch  222/1077 - Train Accuracy: 0.3270, Validation Accuracy: 0.4041, Loss: 1.6026\n",
      "Epoch   0 Batch  223/1077 - Train Accuracy: 0.3999, Validation Accuracy: 0.4286, Loss: 1.4247\n",
      "Epoch   0 Batch  224/1077 - Train Accuracy: 0.4039, Validation Accuracy: 0.4624, Loss: 1.5500\n",
      "Epoch   0 Batch  225/1077 - Train Accuracy: 0.4074, Validation Accuracy: 0.4798, Loss: 1.5440\n",
      "Epoch   0 Batch  226/1077 - Train Accuracy: 0.4289, Validation Accuracy: 0.4847, Loss: 1.4716\n",
      "Epoch   0 Batch  227/1077 - Train Accuracy: 0.3996, Validation Accuracy: 0.4783, Loss: 1.5933\n",
      "Epoch   0 Batch  228/1077 - Train Accuracy: 0.4520, Validation Accuracy: 0.4755, Loss: 1.4823\n",
      "Epoch   0 Batch  229/1077 - Train Accuracy: 0.4305, Validation Accuracy: 0.4776, Loss: 1.5134\n",
      "Epoch   0 Batch  230/1077 - Train Accuracy: 0.4676, Validation Accuracy: 0.4801, Loss: 1.4000\n",
      "Epoch   0 Batch  231/1077 - Train Accuracy: 0.4105, Validation Accuracy: 0.4798, Loss: 1.4668\n",
      "Epoch   0 Batch  232/1077 - Train Accuracy: 0.4227, Validation Accuracy: 0.4766, Loss: 1.5189\n",
      "Epoch   0 Batch  233/1077 - Train Accuracy: 0.3973, Validation Accuracy: 0.4854, Loss: 1.5421\n",
      "Epoch   0 Batch  234/1077 - Train Accuracy: 0.4390, Validation Accuracy: 0.4837, Loss: 1.4327\n",
      "Epoch   0 Batch  235/1077 - Train Accuracy: 0.4435, Validation Accuracy: 0.4709, Loss: 1.3935\n",
      "Epoch   0 Batch  236/1077 - Train Accuracy: 0.4090, Validation Accuracy: 0.4741, Loss: 1.4796\n",
      "Epoch   0 Batch  237/1077 - Train Accuracy: 0.4241, Validation Accuracy: 0.4613, Loss: 1.3792\n",
      "Epoch   0 Batch  238/1077 - Train Accuracy: 0.4039, Validation Accuracy: 0.4620, Loss: 1.4858\n",
      "Epoch   0 Batch  239/1077 - Train Accuracy: 0.3783, Validation Accuracy: 0.4464, Loss: 1.3696\n",
      "Epoch   0 Batch  240/1077 - Train Accuracy: 0.3746, Validation Accuracy: 0.4510, Loss: 1.4324\n",
      "Epoch   0 Batch  241/1077 - Train Accuracy: 0.4234, Validation Accuracy: 0.4574, Loss: 1.3855\n",
      "Epoch   0 Batch  242/1077 - Train Accuracy: 0.3863, Validation Accuracy: 0.4496, Loss: 1.4531\n",
      "Epoch   0 Batch  243/1077 - Train Accuracy: 0.3512, Validation Accuracy: 0.4538, Loss: 1.4795\n",
      "Epoch   0 Batch  244/1077 - Train Accuracy: 0.4080, Validation Accuracy: 0.4364, Loss: 1.3834\n",
      "Epoch   0 Batch  245/1077 - Train Accuracy: 0.4170, Validation Accuracy: 0.4414, Loss: 1.3517\n",
      "Epoch   0 Batch  246/1077 - Train Accuracy: 0.3895, Validation Accuracy: 0.4666, Loss: 1.4254\n",
      "Epoch   0 Batch  247/1077 - Train Accuracy: 0.4435, Validation Accuracy: 0.4723, Loss: 1.3242\n",
      "Epoch   0 Batch  248/1077 - Train Accuracy: 0.4180, Validation Accuracy: 0.4755, Loss: 1.4040\n",
      "Epoch   0 Batch  249/1077 - Train Accuracy: 0.4594, Validation Accuracy: 0.4996, Loss: 1.4138\n",
      "Epoch   0 Batch  250/1077 - Train Accuracy: 0.4567, Validation Accuracy: 0.4929, Loss: 1.3091\n",
      "Epoch   0 Batch  251/1077 - Train Accuracy: 0.4215, Validation Accuracy: 0.4950, Loss: 1.3701\n",
      "Epoch   0 Batch  252/1077 - Train Accuracy: 0.4625, Validation Accuracy: 0.4901, Loss: 1.3533\n",
      "Epoch   0 Batch  253/1077 - Train Accuracy: 0.4588, Validation Accuracy: 0.4893, Loss: 1.3391\n",
      "Epoch   0 Batch  254/1077 - Train Accuracy: 0.4070, Validation Accuracy: 0.4847, Loss: 1.4026\n",
      "Epoch   0 Batch  255/1077 - Train Accuracy: 0.4207, Validation Accuracy: 0.4691, Loss: 1.4289\n",
      "Epoch   0 Batch  256/1077 - Train Accuracy: 0.4211, Validation Accuracy: 0.4766, Loss: 1.4123\n",
      "Epoch   0 Batch  257/1077 - Train Accuracy: 0.4490, Validation Accuracy: 0.4957, Loss: 1.3184\n",
      "Epoch   0 Batch  258/1077 - Train Accuracy: 0.4438, Validation Accuracy: 0.4929, Loss: 1.3024\n",
      "Epoch   0 Batch  259/1077 - Train Accuracy: 0.3992, Validation Accuracy: 0.5078, Loss: 1.3839\n",
      "Epoch   0 Batch  260/1077 - Train Accuracy: 0.4483, Validation Accuracy: 0.5060, Loss: 1.2970\n",
      "Epoch   0 Batch  261/1077 - Train Accuracy: 0.4282, Validation Accuracy: 0.5018, Loss: 1.3163\n",
      "Epoch   0 Batch  262/1077 - Train Accuracy: 0.4281, Validation Accuracy: 0.4957, Loss: 1.3640\n",
      "Epoch   0 Batch  263/1077 - Train Accuracy: 0.4305, Validation Accuracy: 0.4730, Loss: 1.3396\n",
      "Epoch   0 Batch  264/1077 - Train Accuracy: 0.3906, Validation Accuracy: 0.4737, Loss: 1.3660\n"
     ]
    },
    {
     "ename": "KeyboardInterrupt",
     "evalue": "",
     "output_type": "error",
     "traceback": [
      "\u001b[0;31m---------------------------------------------------------------------------\u001b[0m",
      "\u001b[0;31mKeyboardInterrupt\u001b[0m                         Traceback (most recent call last)",
      "\u001b[0;32m<ipython-input-50-8b554ffa681f>\u001b[0m in \u001b[0;36m<module>\u001b[0;34m()\u001b[0m\n\u001b[1;32m     46\u001b[0m                  \u001b[0mtarget_sequence_length\u001b[0m\u001b[0;34m:\u001b[0m \u001b[0mtargets_lengths\u001b[0m\u001b[0;34m,\u001b[0m\u001b[0;34m\u001b[0m\u001b[0m\n\u001b[1;32m     47\u001b[0m                  \u001b[0msource_sequence_length\u001b[0m\u001b[0;34m:\u001b[0m \u001b[0msources_lengths\u001b[0m\u001b[0;34m,\u001b[0m\u001b[0;34m\u001b[0m\u001b[0m\n\u001b[0;32m---> 48\u001b[0;31m                  keep_prob: keep_probability})\n\u001b[0m\u001b[1;32m     49\u001b[0m \u001b[0;34m\u001b[0m\u001b[0m\n\u001b[1;32m     50\u001b[0m \u001b[0;34m\u001b[0m\u001b[0m\n",
      "\u001b[0;32m~/anaconda/envs/translator/lib/python3.6/site-packages/tensorflow/python/client/session.py\u001b[0m in \u001b[0;36mrun\u001b[0;34m(self, fetches, feed_dict, options, run_metadata)\u001b[0m\n\u001b[1;32m    776\u001b[0m     \u001b[0;32mtry\u001b[0m\u001b[0;34m:\u001b[0m\u001b[0;34m\u001b[0m\u001b[0m\n\u001b[1;32m    777\u001b[0m       result = self._run(None, fetches, feed_dict, options_ptr,\n\u001b[0;32m--> 778\u001b[0;31m                          run_metadata_ptr)\n\u001b[0m\u001b[1;32m    779\u001b[0m       \u001b[0;32mif\u001b[0m \u001b[0mrun_metadata\u001b[0m\u001b[0;34m:\u001b[0m\u001b[0;34m\u001b[0m\u001b[0m\n\u001b[1;32m    780\u001b[0m         \u001b[0mproto_data\u001b[0m \u001b[0;34m=\u001b[0m \u001b[0mtf_session\u001b[0m\u001b[0;34m.\u001b[0m\u001b[0mTF_GetBuffer\u001b[0m\u001b[0;34m(\u001b[0m\u001b[0mrun_metadata_ptr\u001b[0m\u001b[0;34m)\u001b[0m\u001b[0;34m\u001b[0m\u001b[0m\n",
      "\u001b[0;32m~/anaconda/envs/translator/lib/python3.6/site-packages/tensorflow/python/client/session.py\u001b[0m in \u001b[0;36m_run\u001b[0;34m(self, handle, fetches, feed_dict, options, run_metadata)\u001b[0m\n\u001b[1;32m    960\u001b[0m                 \u001b[0;34m'which has shape %r'\u001b[0m\u001b[0;34m\u001b[0m\u001b[0m\n\u001b[1;32m    961\u001b[0m                 % (np_val.shape, subfeed_t.name, str(subfeed_t.get_shape())))\n\u001b[0;32m--> 962\u001b[0;31m           \u001b[0;32mif\u001b[0m \u001b[0;32mnot\u001b[0m \u001b[0mself\u001b[0m\u001b[0;34m.\u001b[0m\u001b[0mgraph\u001b[0m\u001b[0;34m.\u001b[0m\u001b[0mis_feedable\u001b[0m\u001b[0;34m(\u001b[0m\u001b[0msubfeed_t\u001b[0m\u001b[0;34m)\u001b[0m\u001b[0;34m:\u001b[0m\u001b[0;34m\u001b[0m\u001b[0m\n\u001b[0m\u001b[1;32m    963\u001b[0m             \u001b[0;32mraise\u001b[0m \u001b[0mValueError\u001b[0m\u001b[0;34m(\u001b[0m\u001b[0;34m'Tensor %s may not be fed.'\u001b[0m \u001b[0;34m%\u001b[0m \u001b[0msubfeed_t\u001b[0m\u001b[0;34m)\u001b[0m\u001b[0;34m\u001b[0m\u001b[0m\n\u001b[1;32m    964\u001b[0m           \u001b[0msubfeed_name\u001b[0m \u001b[0;34m=\u001b[0m \u001b[0mcompat\u001b[0m\u001b[0;34m.\u001b[0m\u001b[0mas_bytes\u001b[0m\u001b[0;34m(\u001b[0m\u001b[0msubfeed_t\u001b[0m\u001b[0;34m.\u001b[0m\u001b[0mname\u001b[0m\u001b[0;34m)\u001b[0m\u001b[0;34m\u001b[0m\u001b[0m\n",
      "\u001b[0;32m~/anaconda/envs/translator/lib/python3.6/site-packages/tensorflow/python/framework/ops.py\u001b[0m in \u001b[0;36mis_feedable\u001b[0;34m(self, tensor)\u001b[0m\n\u001b[1;32m   3528\u001b[0m   \u001b[0;32mdef\u001b[0m \u001b[0mis_feedable\u001b[0m\u001b[0;34m(\u001b[0m\u001b[0mself\u001b[0m\u001b[0;34m,\u001b[0m \u001b[0mtensor\u001b[0m\u001b[0;34m)\u001b[0m\u001b[0;34m:\u001b[0m\u001b[0;34m\u001b[0m\u001b[0m\n\u001b[1;32m   3529\u001b[0m     \u001b[0;34m\"\"\"Returns `True` if and only if `tensor` is feedable.\"\"\"\u001b[0m\u001b[0;34m\u001b[0m\u001b[0m\n\u001b[0;32m-> 3530\u001b[0;31m     \u001b[0;32mreturn\u001b[0m \u001b[0mtensor\u001b[0m \u001b[0;32mnot\u001b[0m \u001b[0;32min\u001b[0m \u001b[0mself\u001b[0m\u001b[0;34m.\u001b[0m\u001b[0m_unfeedable_tensors\u001b[0m\u001b[0;34m\u001b[0m\u001b[0m\n\u001b[0m\u001b[1;32m   3531\u001b[0m \u001b[0;34m\u001b[0m\u001b[0m\n\u001b[1;32m   3532\u001b[0m   \u001b[0;32mdef\u001b[0m \u001b[0mprevent_fetching\u001b[0m\u001b[0;34m(\u001b[0m\u001b[0mself\u001b[0m\u001b[0;34m,\u001b[0m \u001b[0mop\u001b[0m\u001b[0;34m)\u001b[0m\u001b[0;34m:\u001b[0m\u001b[0;34m\u001b[0m\u001b[0m\n",
      "\u001b[0;32m~/anaconda/envs/translator/lib/python3.6/site-packages/tensorflow/python/framework/ops.py\u001b[0m in \u001b[0;36m__hash__\u001b[0;34m(self)\u001b[0m\n\u001b[1;32m    472\u001b[0m   \u001b[0;32mdef\u001b[0m \u001b[0m__hash__\u001b[0m\u001b[0;34m(\u001b[0m\u001b[0mself\u001b[0m\u001b[0;34m)\u001b[0m\u001b[0;34m:\u001b[0m\u001b[0;34m\u001b[0m\u001b[0m\n\u001b[1;32m    473\u001b[0m     \u001b[0;31m# Necessary to support Python's collection membership operators\u001b[0m\u001b[0;34m\u001b[0m\u001b[0;34m\u001b[0m\u001b[0m\n\u001b[0;32m--> 474\u001b[0;31m     \u001b[0;32mreturn\u001b[0m \u001b[0mid\u001b[0m\u001b[0;34m(\u001b[0m\u001b[0mself\u001b[0m\u001b[0;34m)\u001b[0m\u001b[0;34m\u001b[0m\u001b[0m\n\u001b[0m\u001b[1;32m    475\u001b[0m \u001b[0;34m\u001b[0m\u001b[0m\n\u001b[1;32m    476\u001b[0m   \u001b[0;32mdef\u001b[0m \u001b[0m__eq__\u001b[0m\u001b[0;34m(\u001b[0m\u001b[0mself\u001b[0m\u001b[0;34m,\u001b[0m \u001b[0mother\u001b[0m\u001b[0;34m)\u001b[0m\u001b[0;34m:\u001b[0m\u001b[0;34m\u001b[0m\u001b[0m\n",
      "\u001b[0;31mKeyboardInterrupt\u001b[0m: "
     ]
    }
   ],
   "source": [
    "\"\"\"\n",
    "DON'T MODIFY ANYTHING IN THIS CELL\n",
    "\"\"\"\n",
    "def get_accuracy(target, logits):\n",
    "    \"\"\"\n",
    "    Calculate accuracy\n",
    "    \"\"\"\n",
    "    max_seq = max(target.shape[1], logits.shape[1])\n",
    "    if max_seq - target.shape[1]:\n",
    "        target = np.pad(\n",
    "            target,\n",
    "            [(0,0),(0,max_seq - target.shape[1])],\n",
    "            'constant')\n",
    "    if max_seq - logits.shape[1]:\n",
    "        logits = np.pad(\n",
    "            logits,\n",
    "            [(0,0),(0,max_seq - logits.shape[1])],\n",
    "            'constant')\n",
    "\n",
    "    return np.mean(np.equal(target, logits))\n",
    "\n",
    "# Split data to training and validation sets\n",
    "train_source = source_int_text[batch_size:]\n",
    "train_target = target_int_text[batch_size:]\n",
    "valid_source = source_int_text[:batch_size]\n",
    "valid_target = target_int_text[:batch_size]\n",
    "(valid_sources_batch, valid_targets_batch, valid_sources_lengths, valid_targets_lengths ) = next(get_batches(valid_source,\n",
    "                                                                                                             valid_target,\n",
    "                                                                                                             batch_size,\n",
    "                                                                                                             source_vocab_to_int['<PAD>'],\n",
    "                                                                                                             target_vocab_to_int['<PAD>']))                                                                                                  \n",
    "with tf.Session(graph=train_graph) as sess:\n",
    "    sess.run(tf.global_variables_initializer())\n",
    "\n",
    "    for epoch_i in range(epochs):\n",
    "        for batch_i, (source_batch, target_batch, sources_lengths, targets_lengths) in enumerate(\n",
    "                get_batches(train_source, train_target, batch_size,\n",
    "                            source_vocab_to_int['<PAD>'],\n",
    "                            target_vocab_to_int['<PAD>'])):\n",
    "\n",
    "            _, loss = sess.run(\n",
    "                [train_op, cost],\n",
    "                {input_data: source_batch,\n",
    "                 targets: target_batch,\n",
    "                 lr: learning_rate,\n",
    "                 target_sequence_length: targets_lengths,\n",
    "                 source_sequence_length: sources_lengths,\n",
    "                 keep_prob: keep_probability})\n",
    "\n",
    "\n",
    "            if batch_i % display_step == 0 and batch_i > 0:\n",
    "\n",
    "\n",
    "                batch_train_logits = sess.run(\n",
    "                    inference_logits,\n",
    "                    {input_data: source_batch,\n",
    "                     source_sequence_length: sources_lengths,\n",
    "                     target_sequence_length: targets_lengths,\n",
    "                     keep_prob: 1.0})\n",
    "\n",
    "\n",
    "                batch_valid_logits = sess.run(\n",
    "                    inference_logits,\n",
    "                    {input_data: valid_sources_batch,\n",
    "                     source_sequence_length: valid_sources_lengths,\n",
    "                     target_sequence_length: valid_targets_lengths,\n",
    "                     keep_prob: 1.0})\n",
    "\n",
    "                train_acc = get_accuracy(target_batch, batch_train_logits)\n",
    "\n",
    "                valid_acc = get_accuracy(valid_targets_batch, batch_valid_logits)\n",
    "\n",
    "                print('Epoch {:>3} Batch {:>4}/{} - Train Accuracy: {:>6.4f}, Validation Accuracy: {:>6.4f}, Loss: {:>6.4f}'\n",
    "                      .format(epoch_i, batch_i, len(source_int_text) // batch_size, train_acc, valid_acc, loss))\n",
    "\n",
    "    # Save Model\n",
    "    saver = tf.train.Saver()\n",
    "    saver.save(sess, save_path)\n",
    "    print('Model Trained and Saved')"
   ]
  },
  {
   "cell_type": "markdown",
   "metadata": {},
   "source": [
    "### Save Parameters\n",
    "Save the `batch_size` and `save_path` parameters for inference."
   ]
  },
  {
   "cell_type": "code",
   "execution_count": null,
   "metadata": {
    "collapsed": true
   },
   "outputs": [],
   "source": [
    "\"\"\"\n",
    "DON'T MODIFY ANYTHING IN THIS CELL\n",
    "\"\"\"\n",
    "# Save parameters for checkpoint\n",
    "helper.save_params(save_path)"
   ]
  },
  {
   "cell_type": "markdown",
   "metadata": {},
   "source": [
    "# Checkpoint"
   ]
  },
  {
   "cell_type": "code",
   "execution_count": null,
   "metadata": {
    "collapsed": true
   },
   "outputs": [],
   "source": [
    "\"\"\"\n",
    "DON'T MODIFY ANYTHING IN THIS CELL\n",
    "\"\"\"\n",
    "import tensorflow as tf\n",
    "import numpy as np\n",
    "import helper\n",
    "import problem_unittests as tests\n",
    "\n",
    "_, (source_vocab_to_int, target_vocab_to_int), (source_int_to_vocab, target_int_to_vocab) = helper.load_preprocess()\n",
    "load_path = helper.load_params()"
   ]
  },
  {
   "cell_type": "markdown",
   "metadata": {},
   "source": [
    "## Sentence to Sequence\n",
    "To feed a sentence into the model for translation, you first need to preprocess it.  Implement the function `sentence_to_seq()` to preprocess new sentences.\n",
    "\n",
    "- Convert the sentence to lowercase\n",
    "- Convert words into ids using `vocab_to_int`\n",
    " - Convert words not in the vocabulary, to the `<UNK>` word id."
   ]
  },
  {
   "cell_type": "code",
   "execution_count": null,
   "metadata": {
    "collapsed": true
   },
   "outputs": [],
   "source": [
    "def sentence_to_seq(sentence, vocab_to_int):\n",
    "    \"\"\"\n",
    "    Convert a sentence to a sequence of ids\n",
    "    :param sentence: String\n",
    "    :param vocab_to_int: Dictionary to go from the words to an id\n",
    "    :return: List of word ids\n",
    "    \"\"\"\n",
    "    # TODO: Implement Function\n",
    "    return None\n",
    "\n",
    "\n",
    "\"\"\"\n",
    "DON'T MODIFY ANYTHING IN THIS CELL THAT IS BELOW THIS LINE\n",
    "\"\"\"\n",
    "tests.test_sentence_to_seq(sentence_to_seq)"
   ]
  },
  {
   "cell_type": "markdown",
   "metadata": {},
   "source": [
    "## Translate\n",
    "This will translate `translate_sentence` from English to French."
   ]
  },
  {
   "cell_type": "code",
   "execution_count": null,
   "metadata": {
    "collapsed": true
   },
   "outputs": [],
   "source": [
    "translate_sentence = 'he saw a old yellow truck .'\n",
    "\n",
    "\n",
    "\"\"\"\n",
    "DON'T MODIFY ANYTHING IN THIS CELL\n",
    "\"\"\"\n",
    "translate_sentence = sentence_to_seq(translate_sentence, source_vocab_to_int)\n",
    "\n",
    "loaded_graph = tf.Graph()\n",
    "with tf.Session(graph=loaded_graph) as sess:\n",
    "    # Load saved model\n",
    "    loader = tf.train.import_meta_graph(load_path + '.meta')\n",
    "    loader.restore(sess, load_path)\n",
    "\n",
    "    input_data = loaded_graph.get_tensor_by_name('input:0')\n",
    "    logits = loaded_graph.get_tensor_by_name('predictions:0')\n",
    "    target_sequence_length = loaded_graph.get_tensor_by_name('target_sequence_length:0')\n",
    "    source_sequence_length = loaded_graph.get_tensor_by_name('source_sequence_length:0')\n",
    "    keep_prob = loaded_graph.get_tensor_by_name('keep_prob:0')\n",
    "\n",
    "    translate_logits = sess.run(logits, {input_data: [translate_sentence]*batch_size,\n",
    "                                         target_sequence_length: [len(translate_sentence)*2]*batch_size,\n",
    "                                         source_sequence_length: [len(translate_sentence)]*batch_size,\n",
    "                                         keep_prob: 1.0})[0]\n",
    "\n",
    "print('Input')\n",
    "print('  Word Ids:      {}'.format([i for i in translate_sentence]))\n",
    "print('  English Words: {}'.format([source_int_to_vocab[i] for i in translate_sentence]))\n",
    "\n",
    "print('\\nPrediction')\n",
    "print('  Word Ids:      {}'.format([i for i in translate_logits]))\n",
    "print('  French Words: {}'.format(\" \".join([target_int_to_vocab[i] for i in translate_logits])))\n"
   ]
  },
  {
   "cell_type": "markdown",
   "metadata": {},
   "source": [
    "## Imperfect Translation\n",
    "You might notice that some sentences translate better than others.  Since the dataset you're using only has a vocabulary of 227 English words of the thousands that you use, you're only going to see good results using these words.  For this project, you don't need a perfect translation. However, if you want to create a better translation model, you'll need better data.\n",
    "\n",
    "You can train on the [WMT10 French-English corpus](http://www.statmt.org/wmt10/training-giga-fren.tar).  This dataset has more vocabulary and richer in topics discussed.  However, this will take you days to train, so make sure you've a GPU and the neural network is performing well on dataset we provided.  Just make sure you play with the WMT10 corpus after you've submitted this project.\n",
    "## Submitting This Project\n",
    "When submitting this project, make sure to run all the cells before saving the notebook. Save the notebook file as \"dlnd_language_translation.ipynb\" and save it as a HTML file under \"File\" -> \"Download as\". Include the \"helper.py\" and \"problem_unittests.py\" files in your submission."
   ]
  }
 ],
 "metadata": {
  "anaconda-cloud": {},
  "kernelspec": {
   "display_name": "Python 3",
   "language": "python",
   "name": "python3"
  },
  "language_info": {
   "codemirror_mode": {
    "name": "ipython",
    "version": 3
   },
   "file_extension": ".py",
   "mimetype": "text/x-python",
   "name": "python",
   "nbconvert_exporter": "python",
   "pygments_lexer": "ipython3",
   "version": "3.6.2"
  }
 },
 "nbformat": 4,
 "nbformat_minor": 1
}
